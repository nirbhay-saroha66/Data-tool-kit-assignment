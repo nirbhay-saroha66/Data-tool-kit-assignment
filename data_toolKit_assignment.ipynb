{
  "nbformat": 4,
  "nbformat_minor": 0,
  "metadata": {
    "colab": {
      "provenance": []
    },
    "kernelspec": {
      "name": "python3",
      "display_name": "Python 3"
    },
    "language_info": {
      "name": "python"
    }
  },
  "cells": [
    {
      "cell_type": "markdown",
      "source": [
        "Q1) What is NumPy, and why is it widely used in Python?"
      ],
      "metadata": {
        "id": "PZfdofIDJgwf"
      }
    },
    {
      "cell_type": "code",
      "execution_count": null,
      "metadata": {
        "id": "WIKCC2YgJZjV"
      },
      "outputs": [],
      "source": [
        "\"\"\"\n",
        "NumPy (Numerical Python) is a powerful library in Python designed for numerical\n",
        "and scientific computing. It provides a high-performance multidimensional array object,\n",
        "tools for working with these arrays\n",
        "\n",
        "Features of NumPy:\n",
        "1.Mutlidimensional Arrays:\n",
        "=>Central to NumPy is the ndarray object, which represents a multidimensional,\n",
        "homogeneous array\n",
        "=>Arrays can be 1D (vectors), 2D (matrices), or higher dimensions.\n",
        "\n",
        "2.Efficient Computation:\n",
        "=>Operations on NumPy arrays are implemented in C, making them much faster than\n",
        "Python loops.\n",
        "=>It supports vectorized operations, reducing the need for explicit loops.\n",
        "\n",
        "3.Mathematical Functions:\n",
        "=>NumPy provides a rich set of mathematical functions for linear algebra,\n",
        "statistical operations, Fourier transforms, and random number generation.\n",
        "\n",
        "4.Broadcasting:\n",
        "=>This feature allows operations between arrays of different shapes, extending\n",
        "smaller arrays to match larger ones without explicitly copying data.\n",
        "\n",
        "5.Integration with other libraries:\n",
        "=>Libraries like Pandas, SciPy, TensorFlow, and scikit-learn are built on top of\n",
        "NumPy, making it foundational for data analysis and machine learning.\n",
        "\n",
        "##Numpy is widely used:\n",
        "1.Performance:\n",
        "=>NumPy is optimized for speed, outperforming pure Python for numerical\n",
        "computations.\n",
        "\n",
        "2.Easy of use:\n",
        "=>t provides an syntax for array operations and mathematical functions.\n",
        "\n",
        "3.Memory Efficency:\n",
        "=>It uses less memory than Python lists by storing elements\n",
        "\n",
        "4.Large Ecosystem:\n",
        "=>Many Python libraries for scientific computing and data science rely on NumPy,\n",
        "making it a core component of the Python data ecosystem.\n",
        "\n",
        "5.Community Support:\n",
        "=>NumPy has a large and active community, providing extensive documentation,\n",
        "tutorials\n",
        "\n",
        "6.Flexibility:\n",
        "=>It can handle various data types, including integers, floats,\n",
        "and custom data types.\n",
        "\"\"\""
      ]
    },
    {
      "cell_type": "markdown",
      "source": [
        "Q2) How does broadcasting work in NumPy?"
      ],
      "metadata": {
        "id": "T8fRnBW3LdTl"
      }
    },
    {
      "cell_type": "code",
      "source": [
        "\"\"\"\n",
        "Broadcasting is a powerful feature in NumPy that allows operations on arrays of\n",
        "different shapes without explicitly reshaping or copying data.\n",
        "=>It automatically expands smaller arrays to match the shape of larger arrays\n",
        "so that element-wise operations can be performed.\n",
        "\n",
        "Rules of Broadcasting:\n",
        "1.Compare Shapes from Right to Left:\n",
        "=>Starting from the trailing dimensions (rightmost), compare the shapes of the\n",
        "two arrays.\n",
        "\n",
        "2.Dimensional Compatibility:\n",
        "=>Two dimensions are compatible if:\n",
        "They are equal.\n",
        "One of them is 1.\n",
        "\n",
        "3.Expand Dimensions if Necessary:\n",
        "=>If one array has fewer dimensions, its shape is padded with ones on the left\n",
        "until it matches the number of dimensions of the larger array.\n",
        "\"\"\""
      ],
      "metadata": {
        "id": "ctxKnVPCLfVn"
      },
      "execution_count": null,
      "outputs": []
    },
    {
      "cell_type": "markdown",
      "source": [
        "Q3) What is a Pandas DataFrame?"
      ],
      "metadata": {
        "id": "756FzeHnMLYk"
      }
    },
    {
      "cell_type": "code",
      "source": [
        "\"\"\"\n",
        "A Pandas DataFrame is a two-dimensional, size-mutable, and heterogeneous data structure\n",
        "in Python, widely used for data manipulation and analysis.\n",
        "=>It can be thought of as a table with labeled rows and columns,\n",
        "similar to a spreadsheet or SQL table, but it offers powerful functionality for\n",
        "handling structured data efficiently.\n",
        "\n",
        "Key features of a DataFrame:\n",
        "1.Two Dimensional:\n",
        "=>Data is organized in rows and columns.\n",
        "\n",
        "2.Labeled Rows and Columns:\n",
        "=>Each row and column has labels (index for rows, column names for columns),\n",
        "which makes data manipulation\n",
        "\n",
        "3.Heterogeneous Data:\n",
        "=>Columns can contain data of different types (e.g., integers, floats, strings, etc.).\n",
        "\n",
        "4.Size-Mutable:\n",
        "=>Rows and columns can be added, removed, or modified.\n",
        "\n",
        "5.Integrated with NumPy:\n",
        "=>Built on top of NumPy, allowing for efficient numerical operations.\n",
        "\n",
        "\"\"\""
      ],
      "metadata": {
        "id": "-h7OgqtBMMtm"
      },
      "execution_count": null,
      "outputs": []
    },
    {
      "cell_type": "markdown",
      "source": [
        "Q4) Explain the use of the groupby() method in Pandas?"
      ],
      "metadata": {
        "id": "ZCaKeQnUN_AR"
      }
    },
    {
      "cell_type": "code",
      "source": [
        "\"\"\"\n",
        "The groupby() method in Pandas is used to group data based on certain criteria\n",
        "and then perform computations on these groups. It is a powerful tool for\n",
        "splitting, applying functions, and combining data, making it particularly useful\n",
        "for aggregation and transformation tasks.\n",
        "\n",
        "Use of groupby() method in Pandas:\n",
        "1.Aggregation:\n",
        "=>Summing, averaging, or counting values by group.\n",
        "\n",
        "2.Transformation:\n",
        "=>Applying functions to modify group data while retaining the original structure.\n",
        "\n",
        "3.Filtering:\n",
        "=>Extracting groups that meet certain conditions.\n",
        "\n",
        "4.Exploration:\n",
        "=>Understanding data distribution and trends within groups.\n",
        "\"\"\""
      ],
      "metadata": {
        "id": "GekMjBAZOD96"
      },
      "execution_count": null,
      "outputs": []
    },
    {
      "cell_type": "markdown",
      "source": [
        "Q5) Why is Seaborn preferred for statistical visualizations?"
      ],
      "metadata": {
        "id": "9S56COYgPP5a"
      }
    },
    {
      "cell_type": "code",
      "source": [
        "\"\"\"\n",
        "Seaborn is a Python data visualization library built on top of Matplotlib,\n",
        "and it is specifically designed for creating statistical visualizations.\n",
        "It simplifies the process of creating complex plots while providing aesthetically\n",
        "pleasing and informative graphics.\n",
        "\n",
        "Seaborn is preferred for statistical visualization:\n",
        "1.High-level interface:\n",
        "=>Seaborn provides a high-level interface for creating attractive and informative\n",
        "statistical plots with minimal code.\n",
        "\n",
        "2. Built-in Support for Statistical Analysis:\n",
        "=>Seaborn integrates statistical computations into its visualizations,\n",
        "making it easy to:\n",
        "a)Show distributions, correlations, and trends.\n",
        "b)Perform linear regression (e.g., sns.regplot()).\n",
        "c)Visualize relationships between variables (e.g., sns.pairplot())\n",
        "\n",
        "3.Beautiful and Customizable Aesthetics:\n",
        "=>Seaborn comes with attractive default styles and color palettes that make\n",
        "visualizations more professional and visually appealing.\n",
        "\n",
        "4.Works Well with Pandas DataFrames:\n",
        "=>Seaborn is designed to work seamlessly with Pandas DataFrames, which are the\n",
        "standard data structure for data analysis in Python.\n",
        "\n",
        "5.Wide Range of Statistical Plots:\n",
        "=>Seaborn provides specialized functions for various statistical visualizations:\n",
        "a)Distribution Plots: sns.histplot(), sns.kdeplot(), sns.boxplot()\n",
        "b)Relational Plots: sns.scatterplot(), sns.lineplot()\n",
        "c)Categorical Plots: sns.barplot(), sns.countplot()\n",
        "d)Matrix Plots: sns.heatmap(), sns.clustermap()\n",
        "e)Pairwise Relationships: sns.pairplot()\n",
        "\n",
        "6.Handling Multivariate Data:\n",
        "=>Seaborn makes it easy to visualize relationships between multiple variables\n",
        "using color (hue), size, or style to encode additional dimensions.\n",
        "\n",
        "7.Statistical Insights:\n",
        "=>Seaborn includes tools to:\n",
        "a)Add confidence intervals to visualizations automatically (e.g., sns.lineplot()).\n",
        "b)Display summary statistics like medians, quartiles, etc., in plots.\n",
        "\n",
        "8. Integration with Matplotlib:\n",
        "=>Seaborn is built on Matplotlib, so you can combine the two libraries to further\n",
        "customize plots when needed. This ensures flexibility for advanced users.\n",
        "\n",
        "9.Color Palettes:\n",
        "=>Seaborn provides a variety of color palettes (sns.color_palette()) to make plots\n",
        "more informative and visually appealing.\n",
        "\"\"\""
      ],
      "metadata": {
        "id": "ULC5qQjpPS62"
      },
      "execution_count": null,
      "outputs": []
    },
    {
      "cell_type": "markdown",
      "source": [
        "Q6) What are the differences between NumPy arrays and Python lists?"
      ],
      "metadata": {
        "id": "AqjvqAQuQy1Z"
      }
    },
    {
      "cell_type": "code",
      "source": [
        "\"\"\"\n",
        "NumPy arrays and Python lists are both used to store collections of elements,\n",
        "but they have fundamental differences in terms of functionality, efficiency, and usability\n",
        "\n",
        "=>Difference:\n",
        "\n",
        "1.Data Type Consistency:\n",
        "=>NumPy Arrays:\n",
        "a)Homogeneous: All elements must be of the same data type (e.g., integers, floats, etc.).\n",
        "b)This ensures efficient memory usage and operations.\n",
        "=>Python Lists:\n",
        "a)Heterogeneous: Can contain elements of different data types (e.g., integers, strings, floats).\n",
        "b)This flexibility makes lists more general-purpose but less efficient for numerical computations.\n",
        "\n",
        "2.Performance\n",
        "=>NumPy Arrays:\n",
        "a)Faster for numerical computations because they use contiguous memory blocks\n",
        "and are implemented in C.\n",
        "b)Operations are vectorized, avoiding Python loops.\n",
        "=>Python Lists:\n",
        "a)Slower for numerical operations because they rely on Python's dynamic type-checking\n",
        "and use pointers to store elements.\n",
        "\n",
        "3.Memory Efficiency:\n",
        "=>NumPy Arrays:\n",
        "a)Memory-efficient as they store elements in contiguous blocks and require\n",
        "less memory for large datasets.\n",
        "=>Python Lists:\n",
        "a)Less memory-efficient because each element is a separate Python object,\n",
        "and the list stores pointers to these objects.\n",
        "\n",
        "4.Operations:\n",
        "=>NumPy Arrays:\n",
        "a)Support element-wise operations and broadcasting.\n",
        "b)Built-in mathematical functions make complex calculations easy.\n",
        "=>Python Lists:\n",
        "a)Element-wise operations must be done manually using loops or list comprehensions.\n",
        "\n",
        "5.Dimensionality:\n",
        "=>NumPy Arrays:\n",
        "a)Support multidimensional arrays (e.g., 2D matrices, 3D tensors).\n",
        "=>Python Lists:\n",
        "a)Can be nested to represent multidimensional structures, but operations on\n",
        "nested lists are cumbersome and inefficient.\n",
        "\n",
        "6.Functionality:\n",
        "=>NumPy Arrays:\n",
        "a)Extensive library of mathematical and statistical functions.\n",
        "b)Support for advanced operations like linear algebra, Fourier transforms,\n",
        "and random number generation.\n",
        "=>Python Lists:\n",
        "a)General-purpose but lack built-in numerical and scientific functionality.\n",
        "\n",
        "7.Type Safety:\n",
        "=>NumPy Arrays:\n",
        "a)Require consistent data types, which ensures type safety during computations.\n",
        "=>Python Lists:\n",
        "a)Allow mixed data types, which can lead to errors during operations.\n",
        "\n",
        "8.Mutability:\n",
        "=>Both are mutable (elements can be modified), but:\n",
        "a)Modifications in NumPy arrays must respect the homogeneous data type.\n",
        "b)Python lists have no such restriction.\n",
        "\n",
        "9.Indexing and Slicing:\n",
        "=>NumPy Arrays:\n",
        "a)Support advanced slicing, broadcasting, and boolean indexing.\n",
        "\n",
        "=>Python Lists:\n",
        "a)Support basic slicing but lack advanced features like boolean indexing.\n",
        "\"\"\""
      ],
      "metadata": {
        "id": "KzT4SAjaQ0Oo"
      },
      "execution_count": null,
      "outputs": []
    },
    {
      "cell_type": "markdown",
      "source": [
        "Q7) What is a heatmap, and when should it be used?"
      ],
      "metadata": {
        "id": "p0w7WNhjSnGR"
      }
    },
    {
      "cell_type": "code",
      "source": [
        "\"\"\"\n",
        "A heatmap is a graphical representation of data where individual values are\n",
        "depicted as colors in a two-dimensional grid.\n",
        "It provides an intuitive way to visualize data patterns, relationships,\n",
        "and trends, especially for datasets with numerical values or frequencies.\n",
        "\n",
        "When to Use a Heatmap:\n",
        "1.Correlation Analysis:\n",
        "a)Visualize the strength and direction of relationships between variables in a dataset.\n",
        "b)Example: A heatmap of a correlation matrix showing how variables are related to each other.\n",
        "c)Use Case: Understanding feature relationships in machine learning.\n",
        "\n",
        "2.Exploring Patterns:\n",
        "a)Highlight trends or clusters in data, such as high or low values.\n",
        "b)Example: Examining sales data across regions and months.\n",
        "\n",
        "3.Visualizing Frequencies:\n",
        "a)Show how often events occur.\n",
        "b)Example: Visualizing attendance counts for events over days and times.\n",
        "\n",
        "4.Categorical Comparisons:\n",
        "a)Compare values for combinations of two categorical variables.\n",
        "b)Example: Showing average test scores for different schools and subjects.\n",
        "\n",
        "5.Time Series Data:\n",
        "a)Highlight variations over time and across categories.\n",
        "b)Example: Temperature readings across hours of the day and days of the week.\n",
        "\n",
        "6.Feature Importance or Model Outputs:\n",
        "a)Visualize the relative importance of features or confusion matrices in machine learning.\n",
        "b)Example: Plotting confusion matrices to evaluate classification performance.\n",
        "\n",
        "\"\"\""
      ],
      "metadata": {
        "id": "SNwRR2avSpbE"
      },
      "execution_count": null,
      "outputs": []
    },
    {
      "cell_type": "markdown",
      "source": [
        "Q8) What does the term “vectorized operation” mean in NumPy?"
      ],
      "metadata": {
        "id": "9vGyqo-BTf0c"
      }
    },
    {
      "cell_type": "code",
      "source": [
        "\"\"\"\n",
        "A vectorized operation in NumPy refers to performing element-wise operations on\n",
        "entire arrays (vectors, matrices, etc.) without the need for explicit Python loops.\n",
        "These operations are implemented in low-level languages like C, making them\n",
        "significantly faster and more efficient compared to iterating over elements\n",
        "using loops in Python.\n",
        "\"\"\""
      ],
      "metadata": {
        "id": "zwmFXvYZThGR"
      },
      "execution_count": null,
      "outputs": []
    },
    {
      "cell_type": "markdown",
      "source": [
        "Q9)  How does Matplotlib differ from Plotly?"
      ],
      "metadata": {
        "id": "orTFjO1oT8JT"
      }
    },
    {
      "cell_type": "code",
      "source": [
        "\"\"\"\n",
        "Both Matplotlib and Plotly are popular Python libraries for data visualization,\n",
        "but they serve different purposes and offer unique features.\n",
        "=>Comparison:\n",
        "\n",
        "1.Interactivity\n",
        "=>Matplotlib:\n",
        "a)Primarily designed for static, publication-quality plots.\n",
        "b)Limited interactivity (e.g., zoom and pan) in plots displayed in a GUI backend.\n",
        "c)For advanced interactivity, additional libraries like mpld3 or plotly need to be integrated.\n",
        "=>Plotly:\n",
        "a)Designed for interactive visualizations by default.\n",
        "b)Built-in features include zooming, panning, hover labels, and more.\n",
        "c)Ideal for dashboards and web-based applications.\n",
        "\n",
        "2. Output Format:\n",
        "=>Matplotlib:\n",
        "a)Produces static plots by default, typically saved as image files (PNG, JPG, SVG, PDF).\n",
        "b)Interactive functionality is limited to specific backends like TkAgg or Qt5Agg.\n",
        "=>Plotly:\n",
        "a)Generates interactive, web-based visualizations that can be saved as HTML files or embedded in web pages.\n",
        "b)Supports exporting to static images (PNG, SVG, PDF) using additional tools.\n",
        "\n",
        "3. Customization\n",
        "=>Matplotlib:\n",
        "a)Highly customizable with extensive control over every aspect of the plot (e.g., ticks, labels, colors, markers).\n",
        "b)Customizations often require more lines of code.\n",
        "=>Plotly:\n",
        "a)Offers a wide range of customization with concise code.\n",
        "b)Built-in themes and responsive layouts make it easier to create visually appealing plots.\n",
        "\n",
        "4. Ease of Use\n",
        "=>Matplotlib:\n",
        "a)Requires more effort for complex visualizations due to its low-level API.\n",
        "b)A steeper learning curve for beginners.\n",
        "=>Plotly:\n",
        "a)Provides a high-level API, making it easier to create complex visualizations with less code.\n",
        "b)Intuitive for beginners, especially for interactive plots.\n",
        "\n",
        "5. Types of Visualizations\n",
        "=>Matplotlib:\n",
        "a)Well-suited for traditional 2D plots like line plots, scatter plots, bar plots, and histograms.\n",
        "b)Supports 3D plots through the mpl_toolkits.mplot3d module, but these are less interactive.\n",
        "=>Plotly:\n",
        "a)Excels in creating both 2D and 3D interactive visualizations.\n",
        "b)Supports advanced charts like choropleth maps, 3D scatter plots, heatmaps, and network graphs.\n",
        "\n",
        "6. Integration with Dashboards\n",
        "=>Matplotlib:\n",
        "a)Limited support for dashboards; additional tools like Dash or Streamlit are needed to integrate plots into dashboards.\n",
        "b)Not inherently optimized for web-based applications.\n",
        "=>Plotly:\n",
        "a)Seamlessly integrates with Dash (Plotly's web application framework) for creating interactive dashboards.\n",
        "b)Excellent for dynamic and web-based visualizations.\n",
        "\n",
        "7. Performance\n",
        "=>Matplotlib:\n",
        "a)Efficient for static plots and small to medium datasets.\n",
        "b)May struggle with very large datasets or highly interactive requirements.\n",
        "=>Plotly:\n",
        "a)Better suited for large datasets and interactive visualizations, as it uses WebGL for rendering complex plots efficiently.\n",
        "b)May have slower rendering for extremely large datasets compared to static plotting.\n",
        "\n",
        "8. Community and Documentation\n",
        "=>Matplotlib:\n",
        "a)Established library with a large, active community and extensive documentation.\n",
        "b)More tutorials and resources available due to its long history.\n",
        "=>Plotly:\n",
        "a)Newer compared to Matplotlib but rapidly growing in popularity.\n",
        "b)Comprehensive documentation and active community support.\n",
        "\"\"\""
      ],
      "metadata": {
        "id": "q_ZOO9oGT9w4"
      },
      "execution_count": null,
      "outputs": []
    },
    {
      "cell_type": "markdown",
      "source": [
        "Q10) What is the significance of hierarchical indexing in Pandas?"
      ],
      "metadata": {
        "id": "HGZi-xkbYOdU"
      }
    },
    {
      "cell_type": "code",
      "source": [
        "\"\"\"\n",
        "Hierarchical indexing (or multi-level indexing) in Pandas allows you to work\n",
        "with data using multiple dimensions of indexing within a single axis (row or column).\n",
        "It is implemented using the MultiIndex object and is particularly useful for\n",
        "handling data that has a natural hierarchy or grouped structure.\n",
        "\n",
        "=>Key features:\n",
        "1.Multi-dimensional Indexing:\n",
        "a)Enables a single DataFrame or Series to have multiple levels of row or column labels.\n",
        "b)This is helpful for representing data with multiple categorical variables.\n",
        "\n",
        "2.Compact Representation:\n",
        "a)Makes it easier to organize and analyze complex datasets without needing additional columns for each dimension.\n",
        "\n",
        "3.Enhanced Grouping and Aggregation:\n",
        "a)Facilitates grouping, aggregation, reshaping, and slicing of data.\n",
        "\n",
        "4.Flexibility:\n",
        "a)Works seamlessly with Pandas functions like groupby(), pivot(), and stack()/unstack().\n",
        "\"\"\""
      ],
      "metadata": {
        "id": "bRzeXN9AYSn7"
      },
      "execution_count": null,
      "outputs": []
    },
    {
      "cell_type": "markdown",
      "source": [
        "Q11)  What is the role of Seaborn’s pairplot() function?"
      ],
      "metadata": {
        "id": "UoU___lqZUbr"
      }
    },
    {
      "cell_type": "code",
      "source": [
        "\"\"\"\n",
        "The pairplot() function in Seaborn is used for creating a grid of scatter plots,\n",
        "along with histograms or kernel density estimates (KDEs), to visualize relationships\n",
        "between multiple numerical variables in a dataset.\n",
        "=>It is particularly useful for exploring pairwise relationships in a dataset\n",
        "and can be considered as an easy-to-interpret method for multivariate visualization.\n",
        "\n",
        "Key features of pairplot():\n",
        "1.Pairwise Scatter Plots:\n",
        "a)Displays scatter plots of all numerical variables against each other in a grid format.\n",
        "Each scatter plot shows the relationship between two variables.\n",
        "\n",
        "2.Diagonal Plots:\n",
        "a)The diagonal of the grid typically shows the distribution of each variable\n",
        "(either as histograms, KDEs, or other plot types).\n",
        "b)These plots help in understanding the distribution of individual variables.\n",
        "\n",
        "3.Faceting by Categories:\n",
        "a)You can use the hue parameter to color the plots based on a categorical variable,\n",
        "making it easier to spot how different categories relate to each other in terms\n",
        "of the numerical variables.\n",
        "\n",
        "4.Customizable Plot Type:\n",
        "a)You can customize the diagonal plots to show histograms, KDEs, or other distribution types\n",
        "using the diag_kind parameter.\n",
        "\n",
        "5.Efficient Multivariate Analysis:\n",
        "a)It provides an efficient way to inspect relationships between multiple variables,\n",
        "which is helpful for feature selection, identifying correlations, and spotting patterns\n",
        "or outliers.\n",
        "\"\"\""
      ],
      "metadata": {
        "id": "eV49oR9NZWAm"
      },
      "execution_count": null,
      "outputs": []
    },
    {
      "cell_type": "markdown",
      "source": [
        "Q12) What is the purpose of the describe() function in Pandas?"
      ],
      "metadata": {
        "id": "CqlmjpycaE4y"
      }
    },
    {
      "cell_type": "code",
      "source": [
        "\"\"\"\n",
        "The describe() function in Pandas is used to generate a summary of statistics for\n",
        "numerical columns (by default) or categorical columns in a DataFrame or Series.\n",
        "It provides a quick overview of the central tendency, spread, and shape of the data,\n",
        "helping to understand the distribution and characteristics of the dataset.\n",
        "This function is very useful for exploratory data analysis (EDA).\n",
        "\n",
        "Key Features of describe():\n",
        "1.Summary Statistics for Numerical Data:\n",
        "=>It calculates common statistical metrics such as count, mean, standard deviation,\n",
        "minimum, maximum, and percentiles (25%, 50%, 75%).\n",
        "\n",
        "2.Summary Statistics for Categorical Data:\n",
        "=>When applied to categorical columns, it provides the count, unique values,\n",
        "top (most frequent value), and freq (frequency of the most frequent value).\n",
        "\"\"\""
      ],
      "metadata": {
        "id": "Oy2RamX-aGIJ"
      },
      "execution_count": null,
      "outputs": []
    },
    {
      "cell_type": "markdown",
      "source": [
        "Q13) Why is handling missing data important in Pandas?"
      ],
      "metadata": {
        "id": "DPt7Vqg2bIF7"
      }
    },
    {
      "cell_type": "code",
      "source": [
        "\"\"\"\n",
        "Handling missing data is a critical step in data preprocessing because real-world\n",
        "datasets are often incomplete. Missing data can lead to inaccurate analysis,\n",
        "biased models, or even errors during computation if not properly handled.\n",
        "Pandas provides powerful tools for identifying, cleaning, and filling missing values\n",
        "in datasets.\n",
        "\n",
        "Impact of Missing Data on Analysis and Modeling\n",
        "1.Bias in Analysis:\n",
        "=>Ignoring missing data can lead to biased statistical analysis, as the absence\n",
        "of values might not be random (e.g., missing data for a particular group may skew the results).\n",
        "\n",
        "2.Errors in Computation:\n",
        "=>Many algorithms or mathematical functions (e.g., calculating the mean, sum, or standard deviation)\n",
        "can fail or produce incorrect results when missing data is involved.\n",
        "\n",
        "3.Decreased Model Performance:\n",
        "=>Machine learning models that don't handle missing data properly may overfit or\n",
        "underperform. Missing values can affect both training and predictions if not appropriately imputed.\n",
        "\n",
        "4.Inaccurate Conclusions:\n",
        "=>Incomplete data can lead to incorrect conclusions and misinformed decision-making,\n",
        "especially in areas like financial analysis, medical research, and scientific studies.\n",
        "\n",
        "\"\"\""
      ],
      "metadata": {
        "id": "b_L-4_t6bJlO"
      },
      "execution_count": null,
      "outputs": []
    },
    {
      "cell_type": "markdown",
      "source": [
        "Q14) What are the benefits of using Plotly for data visualization?"
      ],
      "metadata": {
        "id": "mVZlJ8-tcEy6"
      }
    },
    {
      "cell_type": "code",
      "source": [
        "\"\"\"\n",
        "lotly is a powerful library for creating interactive, high-quality visualizations\n",
        "in Python.\n",
        "It stands out due to its ability to produce interactive plots that are easy to\n",
        "integrate into web applications and dashboards\n",
        "\n",
        "Benefits:\n",
        "1.Interactivity\n",
        "a)Zooming and Panning:\n",
        "=>Plotly plots are interactive by default, meaning users can zoom, pan, and\n",
        "explore the data dynamically.\n",
        "b)Hover Information:\n",
        "=>Hovering over data points provides additional information, like tooltips,\n",
        "which can include labels, values, or any other details about the data.\n",
        "c)Filtering:\n",
        "=>Some plots allow users to interactively filter and highlight subsets of the\n",
        "data for easier analysis.\n",
        "d)Dynamic Legends:\n",
        "=>Plotly provides interactive legends where users can toggle the visibility of\n",
        "different data series by clicking on the legend.\n",
        "Example: In a scatter plot, hovering over a point can show the exact values of the point,\n",
        "such as its coordinates or category, making it easier to interpret the data.\n",
        "\n",
        "2. High-Quality Visualizations\n",
        "a)Beautiful Aesthetics:\n",
        "=>Plotly generates visually appealing plots with modern designs, which are suitable\n",
        "for presentations and publications.\n",
        "b)Customizable Themes:\n",
        "=>You can customize colors, fonts, and styles to match your branding or project needs.\n",
        "c)Wide Variety of Plot Types:\n",
        "=>Supports a broad range of visualizations, including line plots, bar charts,\n",
        "scatter plots, heatmaps, 3D plots, choropleth maps, and more.\n",
        "Example: Plotly offers 3D scatter plots that can be rotated interactively,\n",
        "which is useful for visualizing multi-dimensional data.\n",
        "\n",
        "3. Web Integration and Dashboards\n",
        "a)Web-Based Interactivity:\n",
        "=>Plotly’s interactive visualizations are built with web technologies\n",
        "(HTML, CSS, and JavaScript), making it easy to integrate them into websites,\n",
        "web apps, and dashboards.\n",
        "b)Dash Framework:\n",
        "=>Plotly integrates seamlessly with Dash, a framework for building interactive\n",
        "web applications. This allows you to create complex dashboards with real-time\n",
        "data updates and interactive visualizations.\n",
        "Example: You can create a dashboard with Plotly plots that update based on\n",
        "user input or external data sources, making it perfect for dynamic data-driven\n",
        "applications.\n",
        "\n",
        "4. Support for 3D and Geospatial Visualizations\n",
        "a)3D Visualizations:\n",
        "=>Plotly supports 3D scatter plots, surface plots, and other 3D visualizations,\n",
        "making it useful for visualizing high-dimensional data.\n",
        "b)Geospatial Data:\n",
        "=>Plotly can create geographical visualizations such as choropleth maps,\n",
        "scatter plots on maps, and 3D surface maps. This is especially valuable for data\n",
        "with location-based insights.\n",
        "Example: You can visualize geographical data points on a world map, where points\n",
        "can represent various metrics like population, GDP, or temperature.\n",
        "\n",
        "5. Real-Time Data Visualization\n",
        "a)Dynamic Updates:\n",
        "=>Plotly can handle real-time data and dynamic updates. This is useful for\n",
        "applications like live monitoring dashboards or stock price visualizations.\n",
        "b)Integration with External Data Sources:\n",
        "=>Plotly can be easily integrated with external data sources or APIs, enabling\n",
        "real-time or on-the-fly data visualization.\n",
        "Example: A dashboard showing real-time stock prices or sensor data can update\n",
        "automatically with new data points, providing up-to-date visual insights.\n",
        "\n",
        "6. Ease of Use\n",
        "a)Simple API:\n",
        "=>Plotly’s syntax is simple and intuitive, making it easy to create complex plots\n",
        "with just a few lines of code.\n",
        "b)Integration with Pandas:\n",
        "=>Plotly works well with Pandas DataFrames, enabling easy plotting of DataFrame\n",
        "columns directly.\n",
        "c)Quick Setup:\n",
        "=>Generating interactive plots doesn’t require much setup, and you can get\n",
        "started quickly with minimal code.\n",
        "Example: Creating an interactive line plot with Plotly can be done in one line\n",
        "of code after importing the library and preparing the data.\n",
        "\n",
        "7. Support for Statistical Visualizations\n",
        "a)Statistical Plots:\n",
        "=>Plotly has built-in support for various statistical plots, including box plots,\n",
        "violin plots, histograms, and density plots.\n",
        "b)Trendlines and Annotations:\n",
        "=>You can easily add trendlines, regression lines, or annotations to your plots,\n",
        "enhancing the understanding of patterns in the data.\n",
        "Example: You can create a histogram to understand the distribution of values in a\n",
        "dataset, and then overlay a kernel density estimate (KDE) for a smoother distribution curve.\n",
        "\n",
        "8. Easy Exporting and Sharing\n",
        "a)Export as Static Images:\n",
        "=>While Plotly is optimized for interactivity, it also allows exporting plots as\n",
        "static images (PNG, JPEG, SVG) for use in reports, publications, or presentations.\n",
        "b)Sharing via HTML:\n",
        "=>Interactive plots can be saved as standalone HTML files and shared with others.\n",
        "These files can be opened in a web browser, maintaining interactivity.\n",
        "Example: You can generate a plot in Plotly, save it as an HTML file, and share it\n",
        "with colleagues or publish it on a website with full interactivity.\n",
        "\"\"\""
      ],
      "metadata": {
        "id": "XAt0IA8pcGIL"
      },
      "execution_count": null,
      "outputs": []
    },
    {
      "cell_type": "markdown",
      "source": [
        "Q15)  How does NumPy handle multidimensional arrays?"
      ],
      "metadata": {
        "id": "gh-JcHoedyjD"
      }
    },
    {
      "cell_type": "code",
      "source": [
        "\"\"\"\n",
        "NumPy provides robust support for multidimensional arrays through its core ndarray\n",
        "object. This enables the handling of arrays with more than one axis (e.g., 2D arrays, 3D arrays, etc.).\n",
        "These multidimensional arrays are key for numerical and scientific computing tasks,\n",
        "as they can represent matrices, images, tensors, and higher-dimensional data.\n",
        "\n",
        "Key Concepts of Multidimensional Arrays in NumPy\n",
        "1.ndarray Object:\n",
        "=>The primary object for representing arrays in NumPy is ndarray (short for N-dimensional array).\n",
        "=>An ndarray can have any number of dimensions: 1D, 2D, 3D, etc.\n",
        "=>Each dimension is referred to as an axis.\n",
        "\n",
        "2.Shape and Dimensions:\n",
        "=>The shape of an array is a tuple that describes the number of elements along each axis.\n",
        "=>The number of dimensions is the rank of the array, which is the length of the shape tuple.\n",
        "\n",
        "3.Indexing:\n",
        "=>Multidimensional arrays use multidimensional indexing to access elements.\n",
        "For example, a 2D array (matrix) uses row and column indices, while a 3D array uses\n",
        "row, column, and depth indices.\n",
        "\n",
        "\"\"\""
      ],
      "metadata": {
        "id": "k1AqCTRKdz_I"
      },
      "execution_count": null,
      "outputs": []
    },
    {
      "cell_type": "markdown",
      "source": [
        "Q16)  What is the role of Bokeh in data visualization?"
      ],
      "metadata": {
        "id": "Xml6gsC4ebO9"
      }
    },
    {
      "cell_type": "code",
      "source": [
        "\"\"\"\n",
        "Bokeh is an open-source Python library designed for creating interactive,\n",
        "web-based visualizations. It is specifically aimed at generating high-performance\n",
        "visualizations for large datasets, and its interactive capabilities make it\n",
        "well-suited for exploring and presenting data in a web environment.\n",
        "Bokeh allows users to create sophisticated plots and dashboards with minimal code,\n",
        "and it integrates seamlessly into web applications.\n",
        "\"\"\""
      ],
      "metadata": {
        "id": "O-9tvJ8iec9s"
      },
      "execution_count": null,
      "outputs": []
    },
    {
      "cell_type": "markdown",
      "source": [
        "Q17) Explain the difference between apply() and map() in Pandas?"
      ],
      "metadata": {
        "id": "1JE6XQB6e0yS"
      }
    },
    {
      "cell_type": "code",
      "source": [
        "\"\"\"\n",
        "1. apply() Method:\n",
        "The apply() method is a more general and flexible function that can be used with\n",
        "both Series and DataFrames. It allows applying a function along an axis\n",
        "(rows or columns) of a DataFrame, or to each element of a Series.\n",
        "\n",
        "=>Used for:\n",
        "a)Series: Applies a function element-wise to each element in the Series.\n",
        "b)DataFrames: Allows applying a function either row-wise or column-wise.\n",
        "=>Functionality:\n",
        "a)The function passed to apply() can be a lambda function, a predefined function,\n",
        "or any callable object.\n",
        "b)Can be used to perform complex operations, including aggregations or transformations,\n",
        "on entire rows or columns.\n",
        "\n",
        "2. map() Method\n",
        "The map() method is specific to Series. It is used for element-wise transformations\n",
        "of the data in a Series. It can map values from one set to another using a dictionary,\n",
        "a Series, or a function.\n",
        "\n",
        "=>Used for:\n",
        "a)Only Series: It cannot be used directly on DataFrames.\n",
        "=>Functionality:\n",
        "a)You can pass a function, dictionary, or Series to map(), which will then be\n",
        "applied to each element of the Series.\n",
        "b)map() is typically used for straightforward transformations or replacements\n",
        "of values in a Series.\n",
        "\"\"\""
      ],
      "metadata": {
        "id": "-q_dYpjze3Rm"
      },
      "execution_count": null,
      "outputs": []
    },
    {
      "cell_type": "markdown",
      "source": [
        "Q18)  What are some advanced features of NumPy?"
      ],
      "metadata": {
        "id": "DlhmPSSIf0qW"
      }
    },
    {
      "cell_type": "code",
      "source": [
        "\"\"\"\n",
        "Advanced Features:\n",
        "1. Broadcasting:\n",
        "=>Description: Broadcasting is a mechanism that allows NumPy to perform arithmetic\n",
        "operations on arrays of different shapes by automatically expanding the smaller\n",
        "array to match the shape of the larger array. This avoids the need for explicit\n",
        "loops, making operations on large arrays much more efficient.\n",
        "\n",
        "2. Vectorization:\n",
        "Description: Vectorization refers to the ability to apply operations to entire\n",
        "arrays or large blocks of data without writing explicit loops.\n",
        "NumPy operations are implemented in C, so they are optimized for performance\n",
        "and can process data much faster than a Python loop.\n",
        "\n",
        "3. Advanced Indexing\n",
        "Description: NumPy allows for fancy indexing or advanced indexing, which lets you\n",
        "index arrays with other arrays (e.g., lists or arrays of indices), boolean arrays,\n",
        "or slicing. This makes it possible to perform complex selections and modifications of data.\n",
        "\n",
        "4. NumPy Universal Functions (ufuncs):\n",
        "Description: Universal functions (ufuncs) are functions that operate element-wise\n",
        "on NumPy arrays. They are vectorized operations that are highly optimized for performance.\n",
        "Many mathematical functions, such as np.sin(), np.exp(), and np.log(), are implemented as ufuncs.\n",
        "\n",
        "5. Random Number Generation:\n",
        "Description: NumPy provides a random module that allows for generating random numbers\n",
        "from various probability distributions. It includes functions for generating\n",
        "random samples, random integers, normal distributions, binomial distributions, and more.\n",
        "\n",
        "6. Linear Algebra Functions:\n",
        "Description: NumPy provides a wide array of linear algebra functions,\n",
        "which are useful for tasks like matrix multiplication, solving systems of linear equations,\n",
        "eigenvalue decomposition, singular value decomposition, etc.\n",
        "\n",
        "7. Memory Layout and Views:\n",
        "Description: NumPy arrays provide efficient memory layouts, and you can access data\n",
        "in various formats (C-contiguous, Fortran-contiguous). You can also create views of\n",
        "arrays, which are references to the original data, rather than copies, saving memory.\n",
        "\n",
        "8. Handling Missing Data:\n",
        "Description: NumPy supports handling missing data using np.nan (Not a Number),\n",
        "and provides functions like np.isnan() to check for missing values, and np.nanmean(),\n",
        "np.nansum() for performing calculations while ignoring NaN values.\n",
        "\n",
        "9. Efficient Data Types:\n",
        "Description: NumPy provides support for various data types, including integers,\n",
        "floats, complex numbers, and more. It also supports structured arrays, which allow\n",
        "you to represent data with multiple fields, much like a database table or a CSV file.\n",
        "\n",
        "10. Multi-dimensional Broadcasting:\n",
        "Description: Broadcasting in NumPy extends to multi-dimensional arrays,\n",
        "making it possible to perform operations on arrays of different shapes by\n",
        "automatically expanding smaller arrays to match the shape of larger ones along the specified axis.\n",
        "\n",
        "11. Fast Fourier Transforms (FFT):\n",
        "Description: NumPy provides functions for Fast Fourier Transform (FFT), which is\n",
        "useful for analyzing frequencies and performing operations in the frequency domain,\n",
        "such as signal processing.\n",
        "\n",
        "12. Advanced Array Manipulation\n",
        "Description: NumPy supports advanced array manipulation techniques like stacking,\n",
        "splitting, and reshaping arrays, which are essential for working with complex data structures.\n",
        "\"\"\""
      ],
      "metadata": {
        "id": "d9UlcCojf2_z"
      },
      "execution_count": null,
      "outputs": []
    },
    {
      "cell_type": "markdown",
      "source": [
        "Q19)  How does Pandas simplify time series analysis?"
      ],
      "metadata": {
        "id": "goGMzAYAhEVJ"
      }
    },
    {
      "cell_type": "code",
      "source": [
        "\"\"\"\n",
        "Pandas simplifies time series analysis by providing a set of powerful tools for\n",
        "working with dates, times, and time-indexed data. Time series data often involves\n",
        "recording observations at regular intervals (e.g., daily stock prices, monthly sales data),\n",
        "and Pandas offers extensive support for efficiently handling, manipulating,\n",
        "and analyzing such data.\n",
        "\n",
        "Key features and functionalities:\n",
        "1. Date and Time Handling with datetime:\n",
        "=>Pandas offers comprehensive support for working with dates and times using the\n",
        "datetime module. You can convert strings to datetime objects, and easily manipulate,\n",
        "compare, and extract specific components from timestamps.\n",
        "\n",
        "2. Resampling and Frequency Conversion:\n",
        "=>Pandas allows you to resample time series data to a different frequency,\n",
        "such as converting daily data to monthly, or vice versa. You can apply aggregation functions\n",
        "(e.g., sum, mean) during this process\n",
        "\n",
        "3. Time-based Indexing and Selection:\n",
        "=>Pandas makes it easy to work with time-based indexing, allowing you to select\n",
        "data based on a range of dates or specific time periods. You can use date indices\n",
        "directly to slice the data.\n",
        "\n",
        "4. Time Shifting and Lagging:\n",
        "=>Pandas provides functions like shift() and tshift() that allow for shifting\n",
        "the time series data by a specific number of periods. This is useful for creating\n",
        "lagged variables or computing differences between consecutive observations.\n",
        "\n",
        "5. 5. Handling Missing Data in Time Series:\n",
        "=>Time series data often has missing values. Pandas provides various methods for\n",
        "filling or interpolating missing data, including forward filling (ffill()),\n",
        "backward filling (bfill()), or linear interpolation.\n",
        "\n",
        "6.6. Rolling Window Functions:\n",
        "=>Pandas provides rolling window functions, which are useful for calculating\n",
        "moving averages, sums, and other statistics over a rolling window. This is commonly\n",
        "used in time series analysis for smoothing data and detecting trends.\n",
        "\n",
        "7. Time Zones and Localization:\n",
        "=>Pandas supports working with time zone-aware datetime objects. You can localize\n",
        "datetime objects to a specific time zone and perform time zone conversion.\n",
        "\"\"\""
      ],
      "metadata": {
        "id": "rU_nv5kohFus"
      },
      "execution_count": null,
      "outputs": []
    },
    {
      "cell_type": "markdown",
      "source": [
        "Q20) What is the role of a pivot table in Pandas?"
      ],
      "metadata": {
        "id": "jlrUlmaZiQx_"
      }
    },
    {
      "cell_type": "code",
      "source": [
        "\"\"\"\n",
        "A pivot table in Pandas is a powerful tool for summarizing, aggregating, and restructuring data.\n",
        "It allows you to reshape data by transforming it into a table format where you can\n",
        "group and aggregate data based on certain columns. Pivot tables are widely used for\n",
        "data summarization, aggregation, and cross-tabulation, helping you to gain insights\n",
        "from your data quickly.\n",
        "\n",
        "In essence, pivot tables enable you to rearrange or \"pivot\" the data from a long format\n",
        "(many rows) into a wide format (fewer rows), while applying aggregation functions\n",
        "like sum, mean, count, etc.\n",
        "\"\"\""
      ],
      "metadata": {
        "id": "lgmt8ytUiSZA"
      },
      "execution_count": null,
      "outputs": []
    },
    {
      "cell_type": "markdown",
      "source": [
        "Q21) Why is NumPy’s array slicing faster than Python’s list slicing?"
      ],
      "metadata": {
        "id": "xhMdBNWnikEr"
      }
    },
    {
      "cell_type": "code",
      "source": [
        "\"\"\"\n",
        "NumPy's array slicing is faster than Python's list slicing due to differences in\n",
        "data structure design, memory layout, and implementation.\n",
        "Below are the key reasons:\n",
        "\n",
        "1. Contiguous Memory Storage:\n",
        "=>NumPy Arrays:\n",
        "a)NumPy arrays store data in a contiguous block of memory (C-style or Fortran-style).\n",
        "b)This allows slicing to create views of the original array without copying the data.\n",
        "Instead, NumPy manipulates the underlying memory buffer to access the desired slice.\n",
        "c)The slicing operation is performed with just pointer arithmetic, which is very efficient.\n",
        "=>Python Lists:\n",
        "a)Python lists store elements as references to objects, which are scattered across memory.\n",
        "b)Slicing a list creates a new list by copying the referenced elements to a new location,\n",
        "which is a more computationally expensive process.\n",
        "\n",
        "2. Array Slicing as a View (No Copy):\n",
        "=>NumPy Arrays:\n",
        "a)When slicing a NumPy array, it does not create a copy of the data but instead\n",
        "returns a view of the original array. This minimizes memory usage and makes slicing operations fast.\n",
        "=>Python Lists:\n",
        "a)Slicing a Python list creates a new list, which involves copying the references\n",
        "of elements into a new memory block.\n",
        "\n",
        "3. Optimized Implementation in C\n",
        "=>NumPy Arrays:\n",
        "a)NumPy is implemented in C and uses highly optimized, low-level algorithms for\n",
        "slicing and other operations.\n",
        "b)The slicing operation in NumPy involves minimal overhead, as it directly accesses\n",
        "the underlying memory buffer.\n",
        "=>Python Lists:\n",
        "a)Python lists are implemented as dynamic arrays in C, but slicing requires iterating\n",
        "over the list, copying references for the specified range into a new list,\n",
        "and managing memory allocation. This adds significant overhead compared to NumPy.\n",
        "\n",
        "4. Homogeneous Data vs. Heterogeneous Data\n",
        "=>NumPy Arrays:\n",
        "a)NumPy arrays are homogeneous, meaning all elements have the same data type.\n",
        "This ensures that the memory layout is consistent, allowing for efficient memory access and slicing.\n",
        "=>Python Lists:\n",
        "a)Python lists are heterogeneous, meaning they can store elements of different data types.\n",
        "Each element in a list is a reference to an object, adding additional overhead during slicing operations.\n",
        "\n",
        "5. Overhead of Python’s Dynamic Typing\n",
        "=>NumPy Arrays:\n",
        "a)NumPy uses fixed data types (e.g., int32, float64) at the time of array creation,\n",
        "which eliminates the need for dynamic type checking during slicing. This results in faster execution.\n",
        "=>Python Lists:\n",
        "a)Python lists involve dynamic type checking for each element, which slows down operations like slicing.\n",
        "\n",
        "6. Memory Efficiency\n",
        "=>NumPy Arrays:\n",
        "a)Because slicing in NumPy returns a view (not a copy), it does not require additional\n",
        "memory allocation for the sliced portion of the array.\n",
        "=>Python Lists:\n",
        "a)Slicing creates a new list, which means allocating additional memory for the new list\n",
        "and copying the references of the sliced elements.\n",
        "\n",
        "\"\"\""
      ],
      "metadata": {
        "id": "jcwTNHyu2LgL"
      },
      "execution_count": null,
      "outputs": []
    },
    {
      "cell_type": "markdown",
      "source": [
        "Q22) What are some common use cases for Seaborn?"
      ],
      "metadata": {
        "id": "rIaRf3zi3yp0"
      }
    },
    {
      "cell_type": "code",
      "source": [
        "\"\"\"\n",
        "Common uses cases for Seaborn:\n",
        "\n",
        "1. Visualizing Distributions\n",
        "Seaborn provides tools for exploring the distribution of a single variable or\n",
        "comparing distributions across multiple groups.\n",
        "\n",
        "=>Use Cases:\n",
        "a)Understanding the shape (e.g., normal, skewed) of a dataset.\n",
        "b)Identifying outliers or anomalies in the data.\n",
        "=>Functions:\n",
        "a)sns.histplot(): Visualize the distribution of data using histograms.\n",
        "\n",
        "2. Exploring Relationships Between Variables\n",
        "Seaborn makes it easy to visualize relationships between numerical or categorical variables.\n",
        "\n",
        "=>Use Cases:\n",
        "a)Examining correlations between variables.\n",
        "b)Identifying patterns, clusters, or trends in data.\n",
        "=>Functions:\n",
        "a)sns.scatterplot(): Plot relationships between two numerical variables.\n",
        "b)sns.lineplot(): Visualize trends over time or other continuous variables.\n",
        "c)sns.regplot(): Add regression lines to scatter plots.\n",
        "\n",
        "3. Visualizing Categorical Data\n",
        "Seaborn provides tools for analyzing categorical variables and their relationships\n",
        "to other variables.\n",
        "\n",
        "=>Use Cases:\n",
        "a)Comparing numerical data across categories.\n",
        "b)Analyzing group differences.\n",
        "=>Functions:\n",
        "a)sns.barplot(): Show mean or other aggregations for categories.\n",
        "b)sns.countplot(): Visualize the count of each category.\n",
        "c)sns.catplot(): General function for creating categorical plots (e.g., strip, swarm, box).\n",
        "\n",
        "4. Pairwise Relationship Visualization\n",
        "Seaborn allows you to visualize pairwise relationships among multiple variables in a dataset.\n",
        "\n",
        "=>Use Cases:\n",
        "a)Exploring relationships between all combinations of numerical variables.\n",
        "b)Spotting clusters or patterns in multidimensional data.\n",
        "=>Functions:\n",
        "a)sns.pairplot(): Automatically create scatter plots and histograms for all variable pairs.\n",
        "\n",
        "5. Heatmaps and Correlation Matrices\n",
        "Heatmaps are an excellent way to visualize tabular data or correlations between variables.\n",
        "\n",
        "=>Use Cases:\n",
        "a)Identifying strong or weak correlations.\n",
        "b)Highlighting clusters or patterns in data.\n",
        "=>Functions:\n",
        "a)sns.heatmap(): Plot a heatmap of data values or correlations\n",
        "\n",
        "6. Time Series Visualization\n",
        "Seaborn supports visualizing time series data with tools for plotting trends and\n",
        "patterns over time.\n",
        "\n",
        "=>Use Cases:\n",
        "a)Visualizing seasonal or temporal trends.\n",
        "b)Comparing time-based patterns across categories.\n",
        "=>Functions:\n",
        "a)sns.lineplot(): Ideal for time series data.\n",
        "\n",
        "7. Advanced Statistical Visualizations\n",
        "Seaborn supports visualizing statistical information like distributions,\n",
        "confidence intervals, and relationships between variables.\n",
        "\n",
        "=>Use Cases:\n",
        "a)Adding confidence intervals to regression lines or trend lines.\n",
        "b)Comparing statistical properties of multiple datasets.\n",
        "=>Functions:\n",
        "a)sns.lmplot(): Linear regression with confidence intervals.\n",
        "b)sns.jointplot(): Visualize distributions and scatter plots together.\n",
        "\n",
        "8. Highlighting Data Clusters\n",
        "Seaborn can help identify and visualize clusters in datasets, especially when\n",
        "combined with techniques like clustering.\n",
        "\n",
        "=>Use Cases:\n",
        "a)Visualizing the result of clustering algorithms.\n",
        "b)Highlighting groups within data.\n",
        "=>Functions:\n",
        "a)sns.clustermap(): Create hierarchical cluster maps.\n",
        "\n",
        "9. Visualizing Data Distributions Across Categories\n",
        "Seaborn provides tools to compare the distribution of numerical data across categories.\n",
        "\n",
        "=>Use Cases:\n",
        "a)Understanding the spread of data for different groups.\n",
        "b)Comparing variability or identifying skewness.\n",
        "=>Functions:\n",
        "a)sns.violinplot(): Combines KDE and box plots.\n",
        "b)sns.stripplot(): Shows individual data points for each category.\n",
        "\n",
        "10. Customizing and Enhancing Plots\n",
        "Seaborn provides advanced customization options for making plots more informative\n",
        "and visually appealing.\n",
        "\n",
        "=>Use Cases:\n",
        "a)Adding titles, labels, or legends.\n",
        "b)Adjusting colors, themes, and grid styles.\n",
        "=>Functions:\n",
        "a)sns.set_theme(): Apply consistent themes across plots.\n",
        "b)sns.despine(): Remove or adjust plot spines.\n",
        "\"\"\""
      ],
      "metadata": {
        "id": "N6MYY5Z130t6"
      },
      "execution_count": null,
      "outputs": []
    },
    {
      "cell_type": "markdown",
      "source": [
        "#Practical:"
      ],
      "metadata": {
        "id": "1qbA78kc5g52"
      }
    },
    {
      "cell_type": "markdown",
      "source": [
        "Q1)  How do you create a 2D NumPy array and calculate the sum of each row?"
      ],
      "metadata": {
        "id": "bzasQAX55jcJ"
      }
    },
    {
      "cell_type": "code",
      "source": [
        "#1. Create a 2D NumPy Array\n",
        "import numpy as np\n",
        "\n",
        "# Create a 2D NumPy array\n",
        "array_2d = np.array([[1, 2, 3], [4, 5, 6], [7, 8, 9]])\n",
        "print(\"2D Array:\")\n",
        "print(array_2d)\n"
      ],
      "metadata": {
        "colab": {
          "base_uri": "https://localhost:8080/"
        },
        "id": "rsDokyGP5vj2",
        "outputId": "438b76c6-8728-4504-97cc-4b690a2371d0"
      },
      "execution_count": 2,
      "outputs": [
        {
          "output_type": "stream",
          "name": "stdout",
          "text": [
            "2D Array:\n",
            "[[1 2 3]\n",
            " [4 5 6]\n",
            " [7 8 9]]\n"
          ]
        }
      ]
    },
    {
      "cell_type": "code",
      "source": [
        "#2. Calculate the Sum of Each Row\n",
        "# Sum of each row\n",
        "row_sums = np.sum(array_2d, axis=1)\n",
        "print(\"Sum of each row:\")\n",
        "print(row_sums)\n"
      ],
      "metadata": {
        "colab": {
          "base_uri": "https://localhost:8080/"
        },
        "id": "n9lQ-n-75-ZL",
        "outputId": "545250d3-f27e-4be3-a909-6e7a54e24c42"
      },
      "execution_count": 4,
      "outputs": [
        {
          "output_type": "stream",
          "name": "stdout",
          "text": [
            "Sum of each row:\n",
            "[ 6 15 24]\n"
          ]
        }
      ]
    },
    {
      "cell_type": "markdown",
      "source": [
        "Q2) Write a Pandas script to find the mean of a specific column in a DataFrame?"
      ],
      "metadata": {
        "id": "NVTi3D9w6PXY"
      }
    },
    {
      "cell_type": "code",
      "source": [
        "import pandas as pd\n",
        "\n",
        "# Sample DataFrame\n",
        "data = {\n",
        "    'Name': ['Alice', 'Bob', 'Charlie', 'David'],\n",
        "    'Age': [25, 30, 35, 40],\n",
        "    'Salary': [50000, 60000, 70000, 80000]\n",
        "}\n",
        "\n",
        "df = pd.DataFrame(data)\n",
        "\n",
        "# Calculate the mean of a specific column (e.g., 'Age')\n",
        "mean_age = df['Age'].mean()\n",
        "print(f\"The mean age is: {mean_age}\")\n"
      ],
      "metadata": {
        "colab": {
          "base_uri": "https://localhost:8080/"
        },
        "id": "hVu6IBE96lNV",
        "outputId": "150008ae-a430-4362-a3ee-a5cf67ebf736"
      },
      "execution_count": 5,
      "outputs": [
        {
          "output_type": "stream",
          "name": "stdout",
          "text": [
            "The mean age is: 32.5\n"
          ]
        }
      ]
    },
    {
      "cell_type": "markdown",
      "source": [
        "Q3) Create a scatter plot using Matplotlib?"
      ],
      "metadata": {
        "id": "PBcZDifT6qmo"
      }
    },
    {
      "cell_type": "code",
      "source": [
        "import matplotlib.pyplot as plt\n",
        "\n",
        "# Sample data\n",
        "x = [10, 20, 30, 40, 50]\n",
        "y = [15, 25, 35, 45, 55]\n",
        "sizes = [100, 200, 300, 400, 500]  # Bubble sizes\n",
        "colors = ['red', 'blue', 'green', 'orange', 'purple']  # Point colors\n",
        "\n",
        "# Create scatter plot\n",
        "plt.scatter(x, y, s=sizes, c=colors, alpha=0.7, edgecolors='black')\n",
        "\n",
        "# Add labels and title\n",
        "plt.title(\"Sample Scatter Plot\", fontsize=14)\n",
        "plt.xlabel(\"X-axis Label\", fontsize=12)\n",
        "plt.ylabel(\"Y-axis Label\", fontsize=12)\n",
        "\n",
        "# Show grid\n",
        "plt.grid(True, linestyle='--', alpha=0.5)\n",
        "\n",
        "# Display the plot\n",
        "plt.show()\n"
      ],
      "metadata": {
        "colab": {
          "base_uri": "https://localhost:8080/",
          "height": 477
        },
        "id": "srPbUbJL6sH0",
        "outputId": "c427f3a4-1c29-40d8-a094-00ec5d3a339d"
      },
      "execution_count": 6,
      "outputs": [
        {
          "data": {
            "image/png": "[encoded data removed]",
            "text/plain": [
              "<Figure size 640x480 with 1 Axes>"
            ]
          },
          "metadata": {},
          "output_type": "display_data"
        }
      ]
    },
    {
      "cell_type": "markdown",
      "source": [
        "Q4) How do you calculate the correlation matrix using Seaborn and visualize it with a heatmap?"
      ],
      "metadata": {
        "id": "Dny2kbOQ65hw"
      }
    },
    {
      "cell_type": "code",
      "source": [
        "import seaborn as sns\n",
        "import pandas as pd\n",
        "import matplotlib.pyplot as plt\n",
        "\n",
        "# Example DataFrame\n",
        "data = {\n",
        "    'Age': [25, 30, 35, 40, 45],\n",
        "    'Salary': [50000, 60000, 70000, 80000, 90000],\n",
        "    'Experience': [1, 3, 5, 7, 9],\n",
        "    'Performance': [80, 85, 88, 90, 95]\n",
        "}\n",
        "\n",
        "df = pd.DataFrame(data)\n",
        "# Calculate the correlation matrix\n",
        "correlation_matrix = df.corr()\n",
        "print(correlation_matrix)\n",
        "# Create a heatmap\n",
        "sns.set_theme(style=\"white\")\n",
        "plt.figure(figsize=(8, 6))\n",
        "\n",
        "sns.heatmap(\n",
        "    correlation_matrix,\n",
        "    annot=True,           # Display correlation values in the cells\n",
        "    cmap=\"coolwarm\",      # Colormap for better visual distinction\n",
        "    vmin=-1, vmax=1,      # Set the range of the color scale\n",
        "    linewidths=0.5        # Add lines between cells\n",
        ")\n",
        "\n",
        "plt.title(\"Correlation Matrix Heatmap\", fontsize=16)\n",
        "plt.show()\n"
      ],
      "metadata": {
        "colab": {
          "base_uri": "https://localhost:8080/",
          "height": 619
        },
        "id": "xZBh9oh967Ty",
        "outputId": "f614382f-125d-4495-c64d-6c3813df102a"
      },
      "execution_count": 8,
      "outputs": [
        {
          "output_type": "stream",
          "name": "stdout",
          "text": [
            "                  Age    Salary  Experience  Performance\n",
            "Age          1.000000  1.000000    1.000000     0.989158\n",
            "Salary       1.000000  1.000000    1.000000     0.989158\n",
            "Experience   1.000000  1.000000    1.000000     0.989158\n",
            "Performance  0.989158  0.989158    0.989158     1.000000\n"
          ]
        },
        {
          "output_type": "display_data",
          "data": {
            "text/plain": [
              "<Figure size 800x600 with 2 Axes>"
            ],
            "image/png": "[encoded data removed]"
          },
          "metadata": {}
        }
      ]
    },
    {
      "cell_type": "markdown",
      "source": [
        "Q5) Generate a bar plot using Plotly?"
      ],
      "metadata": {
        "id": "ojSd8NZm7Mf5"
      }
    },
    {
      "cell_type": "code",
      "source": [
        "import plotly.express as px\n",
        "\n",
        "# Sample data\n",
        "data = {\n",
        "    \"Category\": [\"A\", \"B\", \"C\", \"D\"],\n",
        "    \"Values\": [10, 15, 7, 20]\n",
        "}\n",
        "\n",
        "# Create the bar plot\n",
        "fig = px.bar(\n",
        "    x=data[\"Category\"],  # Categories on the x-axis\n",
        "    y=data[\"Values\"],    # Values on the y-axis\n",
        "    title=\"Bar Plot Example\",\n",
        "    labels={\"x\": \"Category\", \"y\": \"Values\"},  # Axis labels\n",
        "    color=data[\"Category\"],  # Add color by category\n",
        "    text=data[\"Values\"]      # Display values on the bars\n",
        ")\n",
        "\n",
        "# Update the layout for better aesthetics\n",
        "fig.update_traces(textposition='outside')\n",
        "fig.update_layout(showlegend=False)\n",
        "\n",
        "# Show the plot\n",
        "fig.show()\n"
      ],
      "metadata": {
        "colab": {
          "base_uri": "https://localhost:8080/",
          "height": 542
        },
        "id": "5bdvXrKJ7N1e",
        "outputId": "693bbd51-2349-48da-b78d-32184d3ca767"
      },
      "execution_count": 9,
      "outputs": [
        {
          "output_type": "display_data",
          "data": {
            "text/html": [
              "<html>\n",
              "<head><meta charset=\"utf-8\" /></head>\n",
              "<body>\n",
              "    <div>            <script src=\"https://cdnjs.cloudflare.com/ajax/libs/mathjax/2.7.5/MathJax.js?config=TeX-AMS-MML_SVG\"></script><script type=\"text/javascript\">if (window.MathJax && window.MathJax.Hub && window.MathJax.Hub.Config) {window.MathJax.Hub.Config({SVG: {font: \"STIX-Web\"}});}</script>                <script type=\"text/javascript\">window.PlotlyConfig = {MathJaxConfig: 'local'};</script>\n",
              "        <script charset=\"utf-8\" src=\"https://cdn.plot.ly/plotly-2.35.2.min.js\"></script>                <div id=\"c881903d-69ba-4dce-8d36-3cc11f25925c\" class=\"plotly-graph-div\" style=\"height:525px; width:100%;\"></div>            <script type=\"text/javascript\">                                    window.PLOTLYENV=window.PLOTLYENV || {};                                    if (document.getElementById(\"c881903d-69ba-4dce-8d36-3cc11f25925c\")) {                    Plotly.newPlot(                        \"c881903d-69ba-4dce-8d36-3cc11f25925c\",                        [{\"alignmentgroup\":\"True\",\"hovertemplate\":\"color=A\\u003cbr\\u003eCategory=%{x}\\u003cbr\\u003eValues=%{y}\\u003cbr\\u003etext=%{text}\\u003cextra\\u003e\\u003c\\u002fextra\\u003e\",\"legendgroup\":\"A\",\"marker\":{\"color\":\"#636efa\",\"pattern\":{\"shape\":\"\"}},\"name\":\"A\",\"offsetgroup\":\"A\",\"orientation\":\"v\",\"showlegend\":true,\"text\":[10.0],\"textposition\":\"outside\",\"x\":[\"A\"],\"xaxis\":\"x\",\"y\":[10],\"yaxis\":\"y\",\"type\":\"bar\"},{\"alignmentgroup\":\"True\",\"hovertemplate\":\"color=B\\u003cbr\\u003eCategory=%{x}\\u003cbr\\u003eValues=%{y}\\u003cbr\\u003etext=%{text}\\u003cextra\\u003e\\u003c\\u002fextra\\u003e\",\"legendgroup\":\"B\",\"marker\":{\"color\":\"#EF553B\",\"pattern\":{\"shape\":\"\"}},\"name\":\"B\",\"offsetgroup\":\"B\",\"orientation\":\"v\",\"showlegend\":true,\"text\":[15.0],\"textposition\":\"outside\",\"x\":[\"B\"],\"xaxis\":\"x\",\"y\":[15],\"yaxis\":\"y\",\"type\":\"bar\"},{\"alignmentgroup\":\"True\",\"hovertemplate\":\"color=C\\u003cbr\\u003eCategory=%{x}\\u003cbr\\u003eValues=%{y}\\u003cbr\\u003etext=%{text}\\u003cextra\\u003e\\u003c\\u002fextra\\u003e\",\"legendgroup\":\"C\",\"marker\":{\"color\":\"#00cc96\",\"pattern\":{\"shape\":\"\"}},\"name\":\"C\",\"offsetgroup\":\"C\",\"orientation\":\"v\",\"showlegend\":true,\"text\":[7.0],\"textposition\":\"outside\",\"x\":[\"C\"],\"xaxis\":\"x\",\"y\":[7],\"yaxis\":\"y\",\"type\":\"bar\"},{\"alignmentgroup\":\"True\",\"hovertemplate\":\"color=D\\u003cbr\\u003eCategory=%{x}\\u003cbr\\u003eValues=%{y}\\u003cbr\\u003etext=%{text}\\u003cextra\\u003e\\u003c\\u002fextra\\u003e\",\"legendgroup\":\"D\",\"marker\":{\"color\":\"#ab63fa\",\"pattern\":{\"shape\":\"\"}},\"name\":\"D\",\"offsetgroup\":\"D\",\"orientation\":\"v\",\"showlegend\":true,\"text\":[20.0],\"textposition\":\"outside\",\"x\":[\"D\"],\"xaxis\":\"x\",\"y\":[20],\"yaxis\":\"y\",\"type\":\"bar\"}],                        {\"template\":{\"data\":{\"histogram2dcontour\":[{\"type\":\"histogram2dcontour\",\"colorbar\":{\"outlinewidth\":0,\"ticks\":\"\"},\"colorscale\":[[0.0,\"#0d0887\"],[0.1111111111111111,\"#46039f\"],[0.2222222222222222,\"#7201a8\"],[0.3333333333333333,\"#9c179e\"],[0.4444444444444444,\"#bd3786\"],[0.5555555555555556,\"#d8576b\"],[0.6666666666666666,\"#ed7953\"],[0.7777777777777778,\"#fb9f3a\"],[0.8888888888888888,\"#fdca26\"],[1.0,\"#f0f921\"]]}],\"choropleth\":[{\"type\":\"choropleth\",\"colorbar\":{\"outlinewidth\":0,\"ticks\":\"\"}}],\"histogram2d\":[{\"type\":\"histogram2d\",\"colorbar\":{\"outlinewidth\":0,\"ticks\":\"\"},\"colorscale\":[[0.0,\"#0d0887\"],[0.1111111111111111,\"#46039f\"],[0.2222222222222222,\"#7201a8\"],[0.3333333333333333,\"#9c179e\"],[0.4444444444444444,\"#bd3786\"],[0.5555555555555556,\"#d8576b\"],[0.6666666666666666,\"#ed7953\"],[0.7777777777777778,\"#fb9f3a\"],[0.8888888888888888,\"#fdca26\"],[1.0,\"#f0f921\"]]}],\"heatmap\":[{\"type\":\"heatmap\",\"colorbar\":{\"outlinewidth\":0,\"ticks\":\"\"},\"colorscale\":[[0.0,\"#0d0887\"],[0.1111111111111111,\"#46039f\"],[0.2222222222222222,\"#7201a8\"],[0.3333333333333333,\"#9c179e\"],[0.4444444444444444,\"#bd3786\"],[0.5555555555555556,\"#d8576b\"],[0.6666666666666666,\"#ed7953\"],[0.7777777777777778,\"#fb9f3a\"],[0.8888888888888888,\"#fdca26\"],[1.0,\"#f0f921\"]]}],\"heatmapgl\":[{\"type\":\"heatmapgl\",\"colorbar\":{\"outlinewidth\":0,\"ticks\":\"\"},\"colorscale\":[[0.0,\"#0d0887\"],[0.1111111111111111,\"#46039f\"],[0.2222222222222222,\"#7201a8\"],[0.3333333333333333,\"#9c179e\"],[0.4444444444444444,\"#bd3786\"],[0.5555555555555556,\"#d8576b\"],[0.6666666666666666,\"#ed7953\"],[0.7777777777777778,\"#fb9f3a\"],[0.8888888888888888,\"#fdca26\"],[1.0,\"#f0f921\"]]}],\"contourcarpet\":[{\"type\":\"contourcarpet\",\"colorbar\":{\"outlinewidth\":0,\"ticks\":\"\"}}],\"contour\":[{\"type\":\"contour\",\"colorbar\":{\"outlinewidth\":0,\"ticks\":\"\"},\"colorscale\":[[0.0,\"#0d0887\"],[0.1111111111111111,\"#46039f\"],[0.2222222222222222,\"#7201a8\"],[0.3333333333333333,\"#9c179e\"],[0.4444444444444444,\"#bd3786\"],[0.5555555555555556,\"#d8576b\"],[0.6666666666666666,\"#ed7953\"],[0.7777777777777778,\"#fb9f3a\"],[0.8888888888888888,\"#fdca26\"],[1.0,\"#f0f921\"]]}],\"surface\":[{\"type\":\"surface\",\"colorbar\":{\"outlinewidth\":0,\"ticks\":\"\"},\"colorscale\":[[0.0,\"#0d0887\"],[0.1111111111111111,\"#46039f\"],[0.2222222222222222,\"#7201a8\"],[0.3333333333333333,\"#9c179e\"],[0.4444444444444444,\"#bd3786\"],[0.5555555555555556,\"#d8576b\"],[0.6666666666666666,\"#ed7953\"],[0.7777777777777778,\"#fb9f3a\"],[0.8888888888888888,\"#fdca26\"],[1.0,\"#f0f921\"]]}],\"mesh3d\":[{\"type\":\"mesh3d\",\"colorbar\":{\"outlinewidth\":0,\"ticks\":\"\"}}],\"scatter\":[{\"fillpattern\":{\"fillmode\":\"overlay\",\"size\":10,\"solidity\":0.2},\"type\":\"scatter\"}],\"parcoords\":[{\"type\":\"parcoords\",\"line\":{\"colorbar\":{\"outlinewidth\":0,\"ticks\":\"\"}}}],\"scatterpolargl\":[{\"type\":\"scatterpolargl\",\"marker\":{\"colorbar\":{\"outlinewidth\":0,\"ticks\":\"\"}}}],\"bar\":[{\"error_x\":{\"color\":\"#2a3f5f\"},\"error_y\":{\"color\":\"#2a3f5f\"},\"marker\":{\"line\":{\"color\":\"#E5ECF6\",\"width\":0.5},\"pattern\":{\"fillmode\":\"overlay\",\"size\":10,\"solidity\":0.2}},\"type\":\"bar\"}],\"scattergeo\":[{\"type\":\"scattergeo\",\"marker\":{\"colorbar\":{\"outlinewidth\":0,\"ticks\":\"\"}}}],\"scatterpolar\":[{\"type\":\"scatterpolar\",\"marker\":{\"colorbar\":{\"outlinewidth\":0,\"ticks\":\"\"}}}],\"histogram\":[{\"marker\":{\"pattern\":{\"fillmode\":\"overlay\",\"size\":10,\"solidity\":0.2}},\"type\":\"histogram\"}],\"scattergl\":[{\"type\":\"scattergl\",\"marker\":{\"colorbar\":{\"outlinewidth\":0,\"ticks\":\"\"}}}],\"scatter3d\":[{\"type\":\"scatter3d\",\"line\":{\"colorbar\":{\"outlinewidth\":0,\"ticks\":\"\"}},\"marker\":{\"colorbar\":{\"outlinewidth\":0,\"ticks\":\"\"}}}],\"scattermapbox\":[{\"type\":\"scattermapbox\",\"marker\":{\"colorbar\":{\"outlinewidth\":0,\"ticks\":\"\"}}}],\"scatterternary\":[{\"type\":\"scatterternary\",\"marker\":{\"colorbar\":{\"outlinewidth\":0,\"ticks\":\"\"}}}],\"scattercarpet\":[{\"type\":\"scattercarpet\",\"marker\":{\"colorbar\":{\"outlinewidth\":0,\"ticks\":\"\"}}}],\"carpet\":[{\"aaxis\":{\"endlinecolor\":\"#2a3f5f\",\"gridcolor\":\"white\",\"linecolor\":\"white\",\"minorgridcolor\":\"white\",\"startlinecolor\":\"#2a3f5f\"},\"baxis\":{\"endlinecolor\":\"#2a3f5f\",\"gridcolor\":\"white\",\"linecolor\":\"white\",\"minorgridcolor\":\"white\",\"startlinecolor\":\"#2a3f5f\"},\"type\":\"carpet\"}],\"table\":[{\"cells\":{\"fill\":{\"color\":\"#EBF0F8\"},\"line\":{\"color\":\"white\"}},\"header\":{\"fill\":{\"color\":\"#C8D4E3\"},\"line\":{\"color\":\"white\"}},\"type\":\"table\"}],\"barpolar\":[{\"marker\":{\"line\":{\"color\":\"#E5ECF6\",\"width\":0.5},\"pattern\":{\"fillmode\":\"overlay\",\"size\":10,\"solidity\":0.2}},\"type\":\"barpolar\"}],\"pie\":[{\"automargin\":true,\"type\":\"pie\"}]},\"layout\":{\"autotypenumbers\":\"strict\",\"colorway\":[\"#636efa\",\"#EF553B\",\"#00cc96\",\"#ab63fa\",\"#FFA15A\",\"#19d3f3\",\"#FF6692\",\"#B6E880\",\"#FF97FF\",\"#FECB52\"],\"font\":{\"color\":\"#2a3f5f\"},\"hovermode\":\"closest\",\"hoverlabel\":{\"align\":\"left\"},\"paper_bgcolor\":\"white\",\"plot_bgcolor\":\"#E5ECF6\",\"polar\":{\"bgcolor\":\"#E5ECF6\",\"angularaxis\":{\"gridcolor\":\"white\",\"linecolor\":\"white\",\"ticks\":\"\"},\"radialaxis\":{\"gridcolor\":\"white\",\"linecolor\":\"white\",\"ticks\":\"\"}},\"ternary\":{\"bgcolor\":\"#E5ECF6\",\"aaxis\":{\"gridcolor\":\"white\",\"linecolor\":\"white\",\"ticks\":\"\"},\"baxis\":{\"gridcolor\":\"white\",\"linecolor\":\"white\",\"ticks\":\"\"},\"caxis\":{\"gridcolor\":\"white\",\"linecolor\":\"white\",\"ticks\":\"\"}},\"coloraxis\":{\"colorbar\":{\"outlinewidth\":0,\"ticks\":\"\"}},\"colorscale\":{\"sequential\":[[0.0,\"#0d0887\"],[0.1111111111111111,\"#46039f\"],[0.2222222222222222,\"#7201a8\"],[0.3333333333333333,\"#9c179e\"],[0.4444444444444444,\"#bd3786\"],[0.5555555555555556,\"#d8576b\"],[0.6666666666666666,\"#ed7953\"],[0.7777777777777778,\"#fb9f3a\"],[0.8888888888888888,\"#fdca26\"],[1.0,\"#f0f921\"]],\"sequentialminus\":[[0.0,\"#0d0887\"],[0.1111111111111111,\"#46039f\"],[0.2222222222222222,\"#7201a8\"],[0.3333333333333333,\"#9c179e\"],[0.4444444444444444,\"#bd3786\"],[0.5555555555555556,\"#d8576b\"],[0.6666666666666666,\"#ed7953\"],[0.7777777777777778,\"#fb9f3a\"],[0.8888888888888888,\"#fdca26\"],[1.0,\"#f0f921\"]],\"diverging\":[[0,\"#8e0152\"],[0.1,\"#c51b7d\"],[0.2,\"#de77ae\"],[0.3,\"#f1b6da\"],[0.4,\"#fde0ef\"],[0.5,\"#f7f7f7\"],[0.6,\"#e6f5d0\"],[0.7,\"#b8e186\"],[0.8,\"#7fbc41\"],[0.9,\"#4d9221\"],[1,\"#276419\"]]},\"xaxis\":{\"gridcolor\":\"white\",\"linecolor\":\"white\",\"ticks\":\"\",\"title\":{\"standoff\":15},\"zerolinecolor\":\"white\",\"automargin\":true,\"zerolinewidth\":2},\"yaxis\":{\"gridcolor\":\"white\",\"linecolor\":\"white\",\"ticks\":\"\",\"title\":{\"standoff\":15},\"zerolinecolor\":\"white\",\"automargin\":true,\"zerolinewidth\":2},\"scene\":{\"xaxis\":{\"backgroundcolor\":\"#E5ECF6\",\"gridcolor\":\"white\",\"linecolor\":\"white\",\"showbackground\":true,\"ticks\":\"\",\"zerolinecolor\":\"white\",\"gridwidth\":2},\"yaxis\":{\"backgroundcolor\":\"#E5ECF6\",\"gridcolor\":\"white\",\"linecolor\":\"white\",\"showbackground\":true,\"ticks\":\"\",\"zerolinecolor\":\"white\",\"gridwidth\":2},\"zaxis\":{\"backgroundcolor\":\"#E5ECF6\",\"gridcolor\":\"white\",\"linecolor\":\"white\",\"showbackground\":true,\"ticks\":\"\",\"zerolinecolor\":\"white\",\"gridwidth\":2}},\"shapedefaults\":{\"line\":{\"color\":\"#2a3f5f\"}},\"annotationdefaults\":{\"arrowcolor\":\"#2a3f5f\",\"arrowhead\":0,\"arrowwidth\":1},\"geo\":{\"bgcolor\":\"white\",\"landcolor\":\"#E5ECF6\",\"subunitcolor\":\"white\",\"showland\":true,\"showlakes\":true,\"lakecolor\":\"white\"},\"title\":{\"x\":0.05},\"mapbox\":{\"style\":\"light\"}}},\"xaxis\":{\"anchor\":\"y\",\"domain\":[0.0,1.0],\"title\":{\"text\":\"Category\"}},\"yaxis\":{\"anchor\":\"x\",\"domain\":[0.0,1.0],\"title\":{\"text\":\"Values\"}},\"legend\":{\"title\":{\"text\":\"color\"},\"tracegroupgap\":0},\"title\":{\"text\":\"Bar Plot Example\"},\"barmode\":\"relative\",\"showlegend\":false},                        {\"responsive\": true}                    ).then(function(){\n",
              "                            \n",
              "var gd = document.getElementById('c881903d-69ba-4dce-8d36-3cc11f25925c');\n",
              "var x = new MutationObserver(function (mutations, observer) {{\n",
              "        var display = window.getComputedStyle(gd).display;\n",
              "        if (!display || display === 'none') {{\n",
              "            console.log([gd, 'removed!']);\n",
              "            Plotly.purge(gd);\n",
              "            observer.disconnect();\n",
              "        }}\n",
              "}});\n",
              "\n",
              "// Listen for the removal of the full notebook cells\n",
              "var notebookContainer = gd.closest('#notebook-container');\n",
              "if (notebookContainer) {{\n",
              "    x.observe(notebookContainer, {childList: true});\n",
              "}}\n",
              "\n",
              "// Listen for the clearing of the current output cell\n",
              "var outputEl = gd.closest('.output');\n",
              "if (outputEl) {{\n",
              "    x.observe(outputEl, {childList: true});\n",
              "}}\n",
              "\n",
              "                        })                };                            </script>        </div>\n",
              "</body>\n",
              "</html>"
            ]
          },
          "metadata": {}
        }
      ]
    },
    {
      "cell_type": "markdown",
      "source": [
        "Q6) Create a DataFrame and add a new column based on an existing column?"
      ],
      "metadata": {
        "id": "zjZ2zN8U7dM2"
      }
    },
    {
      "cell_type": "code",
      "source": [
        "import pandas as pd\n",
        "\n",
        "# Create a sample DataFrame\n",
        "data = {\n",
        "    'Name': ['Alice', 'Bob', 'Charlie', 'David'],\n",
        "    'Age': [25, 30, 35, 40],\n",
        "    'Salary': [50000, 60000, 70000, 80000]\n",
        "}\n",
        "\n",
        "df = pd.DataFrame(data)\n",
        "print(\"Original DataFrame:\")\n",
        "print(df)\n",
        "\n",
        "# Add a new column based on the 'Salary' column (e.g., Tax = 10% of Salary)\n",
        "df['Tax'] = df['Salary'] * 0.1\n",
        "print(\"\\nDataFrame after adding the 'Tax' column:\")\n",
        "print(df)\n"
      ],
      "metadata": {
        "colab": {
          "base_uri": "https://localhost:8080/"
        },
        "id": "tZh_RxcO7fxv",
        "outputId": "bc968ed6-dc72-4b96-ba4a-62625761208f"
      },
      "execution_count": 10,
      "outputs": [
        {
          "output_type": "stream",
          "name": "stdout",
          "text": [
            "Original DataFrame:\n",
            "      Name  Age  Salary\n",
            "0    Alice   25   50000\n",
            "1      Bob   30   60000\n",
            "2  Charlie   35   70000\n",
            "3    David   40   80000\n",
            "\n",
            "DataFrame after adding the 'Tax' column:\n",
            "      Name  Age  Salary     Tax\n",
            "0    Alice   25   50000  5000.0\n",
            "1      Bob   30   60000  6000.0\n",
            "2  Charlie   35   70000  7000.0\n",
            "3    David   40   80000  8000.0\n"
          ]
        }
      ]
    },
    {
      "cell_type": "markdown",
      "source": [
        "Q7) Write a program to perform element-wise multiplication of two NumPy arrays?"
      ],
      "metadata": {
        "id": "bEfy6jEn70gs"
      }
    },
    {
      "cell_type": "code",
      "source": [
        "import numpy as np\n",
        "\n",
        "# Define two NumPy arrays\n",
        "array1 = np.array([1, 2, 3, 4, 5])\n",
        "array2 = np.array([10, 20, 30, 40, 50])\n",
        "\n",
        "# Perform element-wise multiplication\n",
        "result = array1 * array2\n",
        "\n",
        "# Display the arrays and the result\n",
        "print(\"Array 1:\", array1)\n",
        "print(\"Array 2:\", array2)\n",
        "print(\"Element-wise Multiplication Result:\", result)\n"
      ],
      "metadata": {
        "colab": {
          "base_uri": "https://localhost:8080/"
        },
        "id": "TrOnvZT173xz",
        "outputId": "5b60c7ba-2900-4891-e581-4e1f72b47e55"
      },
      "execution_count": 1,
      "outputs": [
        {
          "output_type": "stream",
          "name": "stdout",
          "text": [
            "Array 1: [1 2 3 4 5]\n",
            "Array 2: [10 20 30 40 50]\n",
            "Element-wise Multiplication Result: [ 10  40  90 160 250]\n"
          ]
        }
      ]
    },
    {
      "cell_type": "markdown",
      "source": [
        "Q8) Create a line plot with multiple lines using Matplotlib?"
      ],
      "metadata": {
        "id": "rEh7a_eJVjmb"
      }
    },
    {
      "cell_type": "code",
      "source": [
        "import matplotlib.pyplot as plt\n",
        "\n",
        "# Data for plotting\n",
        "x = [1, 2, 3, 4, 5]\n",
        "y1 = [2, 4, 6, 8, 10]  # Line 1\n",
        "y2 = [1, 3, 5, 7, 9]   # Line 2\n",
        "y3 = [2, 3, 4, 5, 6]   # Line 3\n",
        "\n",
        "# Create a figure and axis\n",
        "plt.figure(figsize=(8, 6))\n",
        "\n",
        "# Plot multiple lines\n",
        "plt.plot(x, y1, label=\"Line 1\", color=\"blue\", linestyle=\"-\", linewidth=2)\n",
        "plt.plot(x, y2, label=\"Line 2\", color=\"green\", linestyle=\"--\", linewidth=2)\n",
        "plt.plot(x, y3, label=\"Line 3\", color=\"red\", linestyle=\":\", linewidth=2)\n",
        "\n",
        "# Add labels and title\n",
        "plt.title(\"Line Plot with Multiple Lines\", fontsize=16)\n",
        "plt.xlabel(\"X-axis Label\", fontsize=12)\n",
        "plt.ylabel(\"Y-axis Label\", fontsize=12)\n",
        "\n",
        "# Add a legend\n",
        "plt.legend()\n",
        "\n",
        "# Show grid\n",
        "plt.grid(True, linestyle=\"--\", alpha=0.6)\n",
        "\n",
        "# Display the plot\n",
        "plt.show()\n"
      ],
      "metadata": {
        "colab": {
          "base_uri": "https://localhost:8080/",
          "height": 522
        },
        "id": "vI6adTV7Vmxg",
        "outputId": "bf851039-9497-412f-bb94-d553526a099b"
      },
      "execution_count": 2,
      "outputs": [
        {
          "output_type": "display_data",
          "data": {
            "text/plain": [
              "<Figure size 800x600 with 1 Axes>"
            ],
            "image/png": "[encoded data removed]"
          },
          "metadata": {}
        }
      ]
    },
    {
      "cell_type": "markdown",
      "source": [
        "Q9) A Generate a Pandas DataFrame and filter rows where a column value is greater than a threshold?\n"
      ],
      "metadata": {
        "id": "CzpU1aoUVySW"
      }
    },
    {
      "cell_type": "code",
      "source": [
        "import pandas as pd\n",
        "\n",
        "# Create a sample DataFrame\n",
        "data = {\n",
        "    'Name': ['Alice', 'Bob', 'Charlie', 'David', 'Eva'],\n",
        "    'Age': [25, 30, 35, 40, 28],\n",
        "    'Salary': [50000, 60000, 70000, 80000, 55000]\n",
        "}\n",
        "\n",
        "df = pd.DataFrame(data)\n",
        "print(\"Original DataFrame:\")\n",
        "print(df)\n",
        "\n",
        "# Define the threshold\n",
        "threshold = 30\n",
        "\n",
        "# Filter rows where the 'Age' column is greater than the threshold\n",
        "filtered_df = df[df['Age'] > threshold]\n",
        "print(\"\\nFiltered DataFrame (Age > 30):\")\n",
        "print(filtered_df)\n"
      ],
      "metadata": {
        "colab": {
          "base_uri": "https://localhost:8080/"
        },
        "id": "7NoXrR65V2PM",
        "outputId": "0d3dc98c-77a7-41b9-e8b6-896107760248"
      },
      "execution_count": 3,
      "outputs": [
        {
          "output_type": "stream",
          "name": "stdout",
          "text": [
            "Original DataFrame:\n",
            "      Name  Age  Salary\n",
            "0    Alice   25   50000\n",
            "1      Bob   30   60000\n",
            "2  Charlie   35   70000\n",
            "3    David   40   80000\n",
            "4      Eva   28   55000\n",
            "\n",
            "Filtered DataFrame (Age > 30):\n",
            "      Name  Age  Salary\n",
            "2  Charlie   35   70000\n",
            "3    David   40   80000\n"
          ]
        }
      ]
    },
    {
      "cell_type": "markdown",
      "source": [
        "Q10)  Create a histogram using Seaborn to visualize a distribution?"
      ],
      "metadata": {
        "id": "6PdkETAmWB3B"
      }
    },
    {
      "cell_type": "code",
      "source": [
        "import seaborn as sns\n",
        "import matplotlib.pyplot as plt\n",
        "\n",
        "# Sample data\n",
        "data = [12, 15, 13, 17, 16, 19, 18, 22, 25, 21, 20, 30, 28, 27, 29]\n",
        "\n",
        "# Create a histogram\n",
        "sns.set_theme(style=\"whitegrid\")\n",
        "plt.figure(figsize=(8, 6))\n",
        "sns.histplot(data, bins=10, kde=True, color=\"blue\")\n",
        "\n",
        "# Add labels and title\n",
        "plt.title(\"Histogram of Data Distribution\", fontsize=16)\n",
        "plt.xlabel(\"Value\", fontsize=12)\n",
        "plt.ylabel(\"Frequency\", fontsize=12)\n",
        "\n",
        "# Show the plot\n",
        "plt.show()\n"
      ],
      "metadata": {
        "colab": {
          "base_uri": "https://localhost:8080/",
          "height": 512
        },
        "id": "xxuQ2GdyWE-x",
        "outputId": "34b987fd-2af6-4b69-c173-eec0f0e8b332"
      },
      "execution_count": 4,
      "outputs": [
        {
          "output_type": "display_data",
          "data": {
            "text/plain": [
              "<Figure size 800x600 with 1 Axes>"
            ],
            "image/png": "[encoded data removed]"
          },
          "metadata": {}
        }
      ]
    },
    {
      "cell_type": "markdown",
      "source": [
        "Q11) Perform matrix multiplication using NumPy?"
      ],
      "metadata": {
        "id": "Y1RlSuyKWQ7F"
      }
    },
    {
      "cell_type": "code",
      "source": [
        "import numpy as np\n",
        "\n",
        "# Define two matrices\n",
        "A = np.array([[1, 2], [3, 4]])\n",
        "B = np.array([[5, 6], [7, 8]])\n",
        "\n",
        "# Perform matrix multiplication\n",
        "result_dot = np.dot(A, B)        # Using np.dot()\n",
        "result_at = A @ B                # Using @ operator\n",
        "result_matmul = np.matmul(A, B)  # Using np.matmul()\n",
        "\n",
        "# Print the results\n",
        "print(\"Matrix A:\")\n",
        "print(A)\n",
        "\n",
        "print(\"\\nMatrix B:\")\n",
        "print(B)\n",
        "\n",
        "print(\"\\nMatrix Multiplication Result (np.dot):\")\n",
        "print(result_dot)\n",
        "\n",
        "print(\"\\nMatrix Multiplication Result (@ operator):\")\n",
        "print(result_at)\n",
        "\n",
        "print(\"\\nMatrix Multiplication Result (np.matmul):\")\n",
        "print(result_matmul)\n"
      ],
      "metadata": {
        "colab": {
          "base_uri": "https://localhost:8080/"
        },
        "id": "xF2AUKtSWXkQ",
        "outputId": "3e92b564-967a-4ee5-ddb7-78cee6145d42"
      },
      "execution_count": 5,
      "outputs": [
        {
          "output_type": "stream",
          "name": "stdout",
          "text": [
            "Matrix A:\n",
            "[[1 2]\n",
            " [3 4]]\n",
            "\n",
            "Matrix B:\n",
            "[[5 6]\n",
            " [7 8]]\n",
            "\n",
            "Matrix Multiplication Result (np.dot):\n",
            "[[19 22]\n",
            " [43 50]]\n",
            "\n",
            "Matrix Multiplication Result (@ operator):\n",
            "[[19 22]\n",
            " [43 50]]\n",
            "\n",
            "Matrix Multiplication Result (np.matmul):\n",
            "[[19 22]\n",
            " [43 50]]\n"
          ]
        }
      ]
    },
    {
      "cell_type": "markdown",
      "source": [
        "Q12)  Use Pandas to load a CSV file and display its first 5 rows?"
      ],
      "metadata": {
        "id": "SccH0aEpWlxs"
      }
    },
    {
      "cell_type": "code",
      "source": [
        "import pandas as pd\n",
        "\n",
        "# Load the CSV file into a Pandas DataFrame\n",
        "# Replace 'your_file.csv' with the path to your CSV file\n",
        "df = pd.read_csv('iris.csv')\n",
        "\n",
        "# Display the first 5 rows of the DataFrame\n",
        "print(\"First 5 rows of the DataFrame:\")\n",
        "print(df.head())\n"
      ],
      "metadata": {
        "colab": {
          "base_uri": "https://localhost:8080/"
        },
        "id": "Yj8gqnoLWxWr",
        "outputId": "5c8e4b79-15a0-4854-e582-4d19c736ef91"
      },
      "execution_count": 7,
      "outputs": [
        {
          "output_type": "stream",
          "name": "stdout",
          "text": [
            "First 5 rows of the DataFrame:\n",
            "   5.1  3.5  1.4  0.2  Iris-setosa\n",
            "0  4.9  3.0  1.4  0.2  Iris-setosa\n",
            "1  4.7  3.2  1.3  0.2  Iris-setosa\n",
            "2  4.6  3.1  1.5  0.2  Iris-setosa\n",
            "3  5.0  3.6  1.4  0.2  Iris-setosa\n",
            "4  5.4  3.9  1.7  0.4  Iris-setosa\n"
          ]
        }
      ]
    },
    {
      "cell_type": "markdown",
      "source": [
        "Q13) Create a 3D scatter plot using Plotly?"
      ],
      "metadata": {
        "id": "GM8wVOg7Ykno"
      }
    },
    {
      "cell_type": "code",
      "source": [
        "import plotly.express as px\n",
        "import seaborn as sns\n",
        "import pandas as pd\n",
        "\n",
        "# Load the Iris dataset\n",
        "iris = sns.load_dataset('iris')\n",
        "\n",
        "# Create the 3D scatter plot\n",
        "fig = px.scatter_3d(\n",
        "    iris,\n",
        "    x='sepal_length',  # X-axis\n",
        "    y='sepal_width',   # Y-axis\n",
        "    z='petal_length',  # Z-axis\n",
        "    color='species',   # Color points by species\n",
        "    title=\"3D Scatter Plot of Iris Dataset\",\n",
        "    labels={\n",
        "        \"sepal_length\": \"Sepal Length\",\n",
        "        \"sepal_width\": \"Sepal Width\",\n",
        "        \"petal_length\": \"Petal Length\"\n",
        "    }\n",
        ")\n",
        "\n",
        "# Show the plot\n",
        "fig.show()\n"
      ],
      "metadata": {
        "colab": {
          "base_uri": "https://localhost:8080/",
          "height": 542
        },
        "id": "XY8-WYQ3YmTd",
        "outputId": "4b2b15dc-dd1d-470b-b13c-00b6732c8b0b"
      },
      "execution_count": 8,
      "outputs": [
        {
          "output_type": "display_data",
          "data": {
            "text/html": [
              "<html>\n",
              "<head><meta charset=\"utf-8\" /></head>\n",
              "<body>\n",
              "    <div>            <script src=\"https://cdnjs.cloudflare.com/ajax/libs/mathjax/2.7.5/MathJax.js?config=TeX-AMS-MML_SVG\"></script><script type=\"text/javascript\">if (window.MathJax && window.MathJax.Hub && window.MathJax.Hub.Config) {window.MathJax.Hub.Config({SVG: {font: \"STIX-Web\"}});}</script>                <script type=\"text/javascript\">window.PlotlyConfig = {MathJaxConfig: 'local'};</script>\n",
              "        <script charset=\"utf-8\" src=\"https://cdn.plot.ly/plotly-2.35.2.min.js\"></script>                <div id=\"104f5c18-ad49-43e4-bf98-a96acdce351d\" class=\"plotly-graph-div\" style=\"height:525px; width:100%;\"></div>            <script type=\"text/javascript\">                                    window.PLOTLYENV=window.PLOTLYENV || {};                                    if (document.getElementById(\"104f5c18-ad49-43e4-bf98-a96acdce351d\")) {                    Plotly.newPlot(                        \"104f5c18-ad49-43e4-bf98-a96acdce351d\",                        [{\"hovertemplate\":\"species=setosa\\u003cbr\\u003eSepal Length=%{x}\\u003cbr\\u003eSepal Width=%{y}\\u003cbr\\u003ePetal Length=%{z}\\u003cextra\\u003e\\u003c\\u002fextra\\u003e\",\"legendgroup\":\"setosa\",\"marker\":{\"color\":\"#636efa\",\"symbol\":\"circle\"},\"mode\":\"markers\",\"name\":\"setosa\",\"scene\":\"scene\",\"showlegend\":true,\"x\":[5.1,4.9,4.7,4.6,5.0,5.4,4.6,5.0,4.4,4.9,5.4,4.8,4.8,4.3,5.8,5.7,5.4,5.1,5.7,5.1,5.4,5.1,4.6,5.1,4.8,5.0,5.0,5.2,5.2,4.7,4.8,5.4,5.2,5.5,4.9,5.0,5.5,4.9,4.4,5.1,5.0,4.5,4.4,5.0,5.1,4.8,5.1,4.6,5.3,5.0],\"y\":[3.5,3.0,3.2,3.1,3.6,3.9,3.4,3.4,2.9,3.1,3.7,3.4,3.0,3.0,4.0,4.4,3.9,3.5,3.8,3.8,3.4,3.7,3.6,3.3,3.4,3.0,3.4,3.5,3.4,3.2,3.1,3.4,4.1,4.2,3.1,3.2,3.5,3.6,3.0,3.4,3.5,2.3,3.2,3.5,3.8,3.0,3.8,3.2,3.7,3.3],\"z\":[1.4,1.4,1.3,1.5,1.4,1.7,1.4,1.5,1.4,1.5,1.5,1.6,1.4,1.1,1.2,1.5,1.3,1.4,1.7,1.5,1.7,1.5,1.0,1.7,1.9,1.6,1.6,1.5,1.4,1.6,1.6,1.5,1.5,1.4,1.5,1.2,1.3,1.4,1.3,1.5,1.3,1.3,1.3,1.6,1.9,1.4,1.6,1.4,1.5,1.4],\"type\":\"scatter3d\"},{\"hovertemplate\":\"species=versicolor\\u003cbr\\u003eSepal Length=%{x}\\u003cbr\\u003eSepal Width=%{y}\\u003cbr\\u003ePetal Length=%{z}\\u003cextra\\u003e\\u003c\\u002fextra\\u003e\",\"legendgroup\":\"versicolor\",\"marker\":{\"color\":\"#EF553B\",\"symbol\":\"circle\"},\"mode\":\"markers\",\"name\":\"versicolor\",\"scene\":\"scene\",\"showlegend\":true,\"x\":[7.0,6.4,6.9,5.5,6.5,5.7,6.3,4.9,6.6,5.2,5.0,5.9,6.0,6.1,5.6,6.7,5.6,5.8,6.2,5.6,5.9,6.1,6.3,6.1,6.4,6.6,6.8,6.7,6.0,5.7,5.5,5.5,5.8,6.0,5.4,6.0,6.7,6.3,5.6,5.5,5.5,6.1,5.8,5.0,5.6,5.7,5.7,6.2,5.1,5.7],\"y\":[3.2,3.2,3.1,2.3,2.8,2.8,3.3,2.4,2.9,2.7,2.0,3.0,2.2,2.9,2.9,3.1,3.0,2.7,2.2,2.5,3.2,2.8,2.5,2.8,2.9,3.0,2.8,3.0,2.9,2.6,2.4,2.4,2.7,2.7,3.0,3.4,3.1,2.3,3.0,2.5,2.6,3.0,2.6,2.3,2.7,3.0,2.9,2.9,2.5,2.8],\"z\":[4.7,4.5,4.9,4.0,4.6,4.5,4.7,3.3,4.6,3.9,3.5,4.2,4.0,4.7,3.6,4.4,4.5,4.1,4.5,3.9,4.8,4.0,4.9,4.7,4.3,4.4,4.8,5.0,4.5,3.5,3.8,3.7,3.9,5.1,4.5,4.5,4.7,4.4,4.1,4.0,4.4,4.6,4.0,3.3,4.2,4.2,4.2,4.3,3.0,4.1],\"type\":\"scatter3d\"},{\"hovertemplate\":\"species=virginica\\u003cbr\\u003eSepal Length=%{x}\\u003cbr\\u003eSepal Width=%{y}\\u003cbr\\u003ePetal Length=%{z}\\u003cextra\\u003e\\u003c\\u002fextra\\u003e\",\"legendgroup\":\"virginica\",\"marker\":{\"color\":\"#00cc96\",\"symbol\":\"circle\"},\"mode\":\"markers\",\"name\":\"virginica\",\"scene\":\"scene\",\"showlegend\":true,\"x\":[6.3,5.8,7.1,6.3,6.5,7.6,4.9,7.3,6.7,7.2,6.5,6.4,6.8,5.7,5.8,6.4,6.5,7.7,7.7,6.0,6.9,5.6,7.7,6.3,6.7,7.2,6.2,6.1,6.4,7.2,7.4,7.9,6.4,6.3,6.1,7.7,6.3,6.4,6.0,6.9,6.7,6.9,5.8,6.8,6.7,6.7,6.3,6.5,6.2,5.9],\"y\":[3.3,2.7,3.0,2.9,3.0,3.0,2.5,2.9,2.5,3.6,3.2,2.7,3.0,2.5,2.8,3.2,3.0,3.8,2.6,2.2,3.2,2.8,2.8,2.7,3.3,3.2,2.8,3.0,2.8,3.0,2.8,3.8,2.8,2.8,2.6,3.0,3.4,3.1,3.0,3.1,3.1,3.1,2.7,3.2,3.3,3.0,2.5,3.0,3.4,3.0],\"z\":[6.0,5.1,5.9,5.6,5.8,6.6,4.5,6.3,5.8,6.1,5.1,5.3,5.5,5.0,5.1,5.3,5.5,6.7,6.9,5.0,5.7,4.9,6.7,4.9,5.7,6.0,4.8,4.9,5.6,5.8,6.1,6.4,5.6,5.1,5.6,6.1,5.6,5.5,4.8,5.4,5.6,5.1,5.1,5.9,5.7,5.2,5.0,5.2,5.4,5.1],\"type\":\"scatter3d\"}],                        {\"template\":{\"data\":{\"histogram2dcontour\":[{\"type\":\"histogram2dcontour\",\"colorbar\":{\"outlinewidth\":0,\"ticks\":\"\"},\"colorscale\":[[0.0,\"#0d0887\"],[0.1111111111111111,\"#46039f\"],[0.2222222222222222,\"#7201a8\"],[0.3333333333333333,\"#9c179e\"],[0.4444444444444444,\"#bd3786\"],[0.5555555555555556,\"#d8576b\"],[0.6666666666666666,\"#ed7953\"],[0.7777777777777778,\"#fb9f3a\"],[0.8888888888888888,\"#fdca26\"],[1.0,\"#f0f921\"]]}],\"choropleth\":[{\"type\":\"choropleth\",\"colorbar\":{\"outlinewidth\":0,\"ticks\":\"\"}}],\"histogram2d\":[{\"type\":\"histogram2d\",\"colorbar\":{\"outlinewidth\":0,\"ticks\":\"\"},\"colorscale\":[[0.0,\"#0d0887\"],[0.1111111111111111,\"#46039f\"],[0.2222222222222222,\"#7201a8\"],[0.3333333333333333,\"#9c179e\"],[0.4444444444444444,\"#bd3786\"],[0.5555555555555556,\"#d8576b\"],[0.6666666666666666,\"#ed7953\"],[0.7777777777777778,\"#fb9f3a\"],[0.8888888888888888,\"#fdca26\"],[1.0,\"#f0f921\"]]}],\"heatmap\":[{\"type\":\"heatmap\",\"colorbar\":{\"outlinewidth\":0,\"ticks\":\"\"},\"colorscale\":[[0.0,\"#0d0887\"],[0.1111111111111111,\"#46039f\"],[0.2222222222222222,\"#7201a8\"],[0.3333333333333333,\"#9c179e\"],[0.4444444444444444,\"#bd3786\"],[0.5555555555555556,\"#d8576b\"],[0.6666666666666666,\"#ed7953\"],[0.7777777777777778,\"#fb9f3a\"],[0.8888888888888888,\"#fdca26\"],[1.0,\"#f0f921\"]]}],\"heatmapgl\":[{\"type\":\"heatmapgl\",\"colorbar\":{\"outlinewidth\":0,\"ticks\":\"\"},\"colorscale\":[[0.0,\"#0d0887\"],[0.1111111111111111,\"#46039f\"],[0.2222222222222222,\"#7201a8\"],[0.3333333333333333,\"#9c179e\"],[0.4444444444444444,\"#bd3786\"],[0.5555555555555556,\"#d8576b\"],[0.6666666666666666,\"#ed7953\"],[0.7777777777777778,\"#fb9f3a\"],[0.8888888888888888,\"#fdca26\"],[1.0,\"#f0f921\"]]}],\"contourcarpet\":[{\"type\":\"contourcarpet\",\"colorbar\":{\"outlinewidth\":0,\"ticks\":\"\"}}],\"contour\":[{\"type\":\"contour\",\"colorbar\":{\"outlinewidth\":0,\"ticks\":\"\"},\"colorscale\":[[0.0,\"#0d0887\"],[0.1111111111111111,\"#46039f\"],[0.2222222222222222,\"#7201a8\"],[0.3333333333333333,\"#9c179e\"],[0.4444444444444444,\"#bd3786\"],[0.5555555555555556,\"#d8576b\"],[0.6666666666666666,\"#ed7953\"],[0.7777777777777778,\"#fb9f3a\"],[0.8888888888888888,\"#fdca26\"],[1.0,\"#f0f921\"]]}],\"surface\":[{\"type\":\"surface\",\"colorbar\":{\"outlinewidth\":0,\"ticks\":\"\"},\"colorscale\":[[0.0,\"#0d0887\"],[0.1111111111111111,\"#46039f\"],[0.2222222222222222,\"#7201a8\"],[0.3333333333333333,\"#9c179e\"],[0.4444444444444444,\"#bd3786\"],[0.5555555555555556,\"#d8576b\"],[0.6666666666666666,\"#ed7953\"],[0.7777777777777778,\"#fb9f3a\"],[0.8888888888888888,\"#fdca26\"],[1.0,\"#f0f921\"]]}],\"mesh3d\":[{\"type\":\"mesh3d\",\"colorbar\":{\"outlinewidth\":0,\"ticks\":\"\"}}],\"scatter\":[{\"fillpattern\":{\"fillmode\":\"overlay\",\"size\":10,\"solidity\":0.2},\"type\":\"scatter\"}],\"parcoords\":[{\"type\":\"parcoords\",\"line\":{\"colorbar\":{\"outlinewidth\":0,\"ticks\":\"\"}}}],\"scatterpolargl\":[{\"type\":\"scatterpolargl\",\"marker\":{\"colorbar\":{\"outlinewidth\":0,\"ticks\":\"\"}}}],\"bar\":[{\"error_x\":{\"color\":\"#2a3f5f\"},\"error_y\":{\"color\":\"#2a3f5f\"},\"marker\":{\"line\":{\"color\":\"#E5ECF6\",\"width\":0.5},\"pattern\":{\"fillmode\":\"overlay\",\"size\":10,\"solidity\":0.2}},\"type\":\"bar\"}],\"scattergeo\":[{\"type\":\"scattergeo\",\"marker\":{\"colorbar\":{\"outlinewidth\":0,\"ticks\":\"\"}}}],\"scatterpolar\":[{\"type\":\"scatterpolar\",\"marker\":{\"colorbar\":{\"outlinewidth\":0,\"ticks\":\"\"}}}],\"histogram\":[{\"marker\":{\"pattern\":{\"fillmode\":\"overlay\",\"size\":10,\"solidity\":0.2}},\"type\":\"histogram\"}],\"scattergl\":[{\"type\":\"scattergl\",\"marker\":{\"colorbar\":{\"outlinewidth\":0,\"ticks\":\"\"}}}],\"scatter3d\":[{\"type\":\"scatter3d\",\"line\":{\"colorbar\":{\"outlinewidth\":0,\"ticks\":\"\"}},\"marker\":{\"colorbar\":{\"outlinewidth\":0,\"ticks\":\"\"}}}],\"scattermapbox\":[{\"type\":\"scattermapbox\",\"marker\":{\"colorbar\":{\"outlinewidth\":0,\"ticks\":\"\"}}}],\"scatterternary\":[{\"type\":\"scatterternary\",\"marker\":{\"colorbar\":{\"outlinewidth\":0,\"ticks\":\"\"}}}],\"scattercarpet\":[{\"type\":\"scattercarpet\",\"marker\":{\"colorbar\":{\"outlinewidth\":0,\"ticks\":\"\"}}}],\"carpet\":[{\"aaxis\":{\"endlinecolor\":\"#2a3f5f\",\"gridcolor\":\"white\",\"linecolor\":\"white\",\"minorgridcolor\":\"white\",\"startlinecolor\":\"#2a3f5f\"},\"baxis\":{\"endlinecolor\":\"#2a3f5f\",\"gridcolor\":\"white\",\"linecolor\":\"white\",\"minorgridcolor\":\"white\",\"startlinecolor\":\"#2a3f5f\"},\"type\":\"carpet\"}],\"table\":[{\"cells\":{\"fill\":{\"color\":\"#EBF0F8\"},\"line\":{\"color\":\"white\"}},\"header\":{\"fill\":{\"color\":\"#C8D4E3\"},\"line\":{\"color\":\"white\"}},\"type\":\"table\"}],\"barpolar\":[{\"marker\":{\"line\":{\"color\":\"#E5ECF6\",\"width\":0.5},\"pattern\":{\"fillmode\":\"overlay\",\"size\":10,\"solidity\":0.2}},\"type\":\"barpolar\"}],\"pie\":[{\"automargin\":true,\"type\":\"pie\"}]},\"layout\":{\"autotypenumbers\":\"strict\",\"colorway\":[\"#636efa\",\"#EF553B\",\"#00cc96\",\"#ab63fa\",\"#FFA15A\",\"#19d3f3\",\"#FF6692\",\"#B6E880\",\"#FF97FF\",\"#FECB52\"],\"font\":{\"color\":\"#2a3f5f\"},\"hovermode\":\"closest\",\"hoverlabel\":{\"align\":\"left\"},\"paper_bgcolor\":\"white\",\"plot_bgcolor\":\"#E5ECF6\",\"polar\":{\"bgcolor\":\"#E5ECF6\",\"angularaxis\":{\"gridcolor\":\"white\",\"linecolor\":\"white\",\"ticks\":\"\"},\"radialaxis\":{\"gridcolor\":\"white\",\"linecolor\":\"white\",\"ticks\":\"\"}},\"ternary\":{\"bgcolor\":\"#E5ECF6\",\"aaxis\":{\"gridcolor\":\"white\",\"linecolor\":\"white\",\"ticks\":\"\"},\"baxis\":{\"gridcolor\":\"white\",\"linecolor\":\"white\",\"ticks\":\"\"},\"caxis\":{\"gridcolor\":\"white\",\"linecolor\":\"white\",\"ticks\":\"\"}},\"coloraxis\":{\"colorbar\":{\"outlinewidth\":0,\"ticks\":\"\"}},\"colorscale\":{\"sequential\":[[0.0,\"#0d0887\"],[0.1111111111111111,\"#46039f\"],[0.2222222222222222,\"#7201a8\"],[0.3333333333333333,\"#9c179e\"],[0.4444444444444444,\"#bd3786\"],[0.5555555555555556,\"#d8576b\"],[0.6666666666666666,\"#ed7953\"],[0.7777777777777778,\"#fb9f3a\"],[0.8888888888888888,\"#fdca26\"],[1.0,\"#f0f921\"]],\"sequentialminus\":[[0.0,\"#0d0887\"],[0.1111111111111111,\"#46039f\"],[0.2222222222222222,\"#7201a8\"],[0.3333333333333333,\"#9c179e\"],[0.4444444444444444,\"#bd3786\"],[0.5555555555555556,\"#d8576b\"],[0.6666666666666666,\"#ed7953\"],[0.7777777777777778,\"#fb9f3a\"],[0.8888888888888888,\"#fdca26\"],[1.0,\"#f0f921\"]],\"diverging\":[[0,\"#8e0152\"],[0.1,\"#c51b7d\"],[0.2,\"#de77ae\"],[0.3,\"#f1b6da\"],[0.4,\"#fde0ef\"],[0.5,\"#f7f7f7\"],[0.6,\"#e6f5d0\"],[0.7,\"#b8e186\"],[0.8,\"#7fbc41\"],[0.9,\"#4d9221\"],[1,\"#276419\"]]},\"xaxis\":{\"gridcolor\":\"white\",\"linecolor\":\"white\",\"ticks\":\"\",\"title\":{\"standoff\":15},\"zerolinecolor\":\"white\",\"automargin\":true,\"zerolinewidth\":2},\"yaxis\":{\"gridcolor\":\"white\",\"linecolor\":\"white\",\"ticks\":\"\",\"title\":{\"standoff\":15},\"zerolinecolor\":\"white\",\"automargin\":true,\"zerolinewidth\":2},\"scene\":{\"xaxis\":{\"backgroundcolor\":\"#E5ECF6\",\"gridcolor\":\"white\",\"linecolor\":\"white\",\"showbackground\":true,\"ticks\":\"\",\"zerolinecolor\":\"white\",\"gridwidth\":2},\"yaxis\":{\"backgroundcolor\":\"#E5ECF6\",\"gridcolor\":\"white\",\"linecolor\":\"white\",\"showbackground\":true,\"ticks\":\"\",\"zerolinecolor\":\"white\",\"gridwidth\":2},\"zaxis\":{\"backgroundcolor\":\"#E5ECF6\",\"gridcolor\":\"white\",\"linecolor\":\"white\",\"showbackground\":true,\"ticks\":\"\",\"zerolinecolor\":\"white\",\"gridwidth\":2}},\"shapedefaults\":{\"line\":{\"color\":\"#2a3f5f\"}},\"annotationdefaults\":{\"arrowcolor\":\"#2a3f5f\",\"arrowhead\":0,\"arrowwidth\":1},\"geo\":{\"bgcolor\":\"white\",\"landcolor\":\"#E5ECF6\",\"subunitcolor\":\"white\",\"showland\":true,\"showlakes\":true,\"lakecolor\":\"white\"},\"title\":{\"x\":0.05},\"mapbox\":{\"style\":\"light\"}}},\"scene\":{\"domain\":{\"x\":[0.0,1.0],\"y\":[0.0,1.0]},\"xaxis\":{\"title\":{\"text\":\"Sepal Length\"}},\"yaxis\":{\"title\":{\"text\":\"Sepal Width\"}},\"zaxis\":{\"title\":{\"text\":\"Petal Length\"}}},\"legend\":{\"title\":{\"text\":\"species\"},\"tracegroupgap\":0},\"title\":{\"text\":\"3D Scatter Plot of Iris Dataset\"}},                        {\"responsive\": true}                    ).then(function(){\n",
              "                            \n",
              "var gd = document.getElementById('104f5c18-ad49-43e4-bf98-a96acdce351d');\n",
              "var x = new MutationObserver(function (mutations, observer) {{\n",
              "        var display = window.getComputedStyle(gd).display;\n",
              "        if (!display || display === 'none') {{\n",
              "            console.log([gd, 'removed!']);\n",
              "            Plotly.purge(gd);\n",
              "            observer.disconnect();\n",
              "        }}\n",
              "}});\n",
              "\n",
              "// Listen for the removal of the full notebook cells\n",
              "var notebookContainer = gd.closest('#notebook-container');\n",
              "if (notebookContainer) {{\n",
              "    x.observe(notebookContainer, {childList: true});\n",
              "}}\n",
              "\n",
              "// Listen for the clearing of the current output cell\n",
              "var outputEl = gd.closest('.output');\n",
              "if (outputEl) {{\n",
              "    x.observe(outputEl, {childList: true});\n",
              "}}\n",
              "\n",
              "                        })                };                            </script>        </div>\n",
              "</body>\n",
              "</html>"
            ]
          },
          "metadata": {}
        }
      ]
    }
  ]
}